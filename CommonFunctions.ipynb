{
    "metadata": {
        "kernelspec": {
            "name": "SQL",
            "display_name": "SQL",
            "language": "sql"
        },
        "language_info": {
            "name": "sql",
            "version": ""
        }
    },
    "nbformat_minor": 2,
    "nbformat": 4,
    "cells": [
        {
            "cell_type": "code",
            "source": [
                "SELECT LEN('Simon')"
            ],
            "metadata": {
                "azdata_cell_guid": "d094ff2c-f00d-4ba2-bbba-4c4bd4fffa37",
                "language": "sql"
            },
            "outputs": [
                {
                    "output_type": "display_data",
                    "data": {
                        "text/html": "(1 row affected)"
                    },
                    "metadata": {}
                },
                {
                    "output_type": "display_data",
                    "data": {
                        "text/html": "Total execution time: 00:00:00.008"
                    },
                    "metadata": {}
                },
                {
                    "output_type": "execute_result",
                    "metadata": {},
                    "execution_count": 1,
                    "data": {
                        "application/vnd.dataresource+json": {
                            "schema": {
                                "fields": [
                                    {
                                        "name": "(No column name)"
                                    }
                                ]
                            },
                            "data": [
                                {
                                    "(No column name)": "5"
                                }
                            ]
                        },
                        "text/html": [
                            "<table>",
                            "<tr><th>(No column name)</th></tr>",
                            "<tr><td>5</td></tr>",
                            "</table>"
                        ]
                    }
                }
            ],
            "execution_count": 1
        },
        {
            "cell_type": "code",
            "source": [
                "SELECT\r\n",
                "    [CategoryName],\r\n",
                "    LEN([CategoryName]) AS [CategoryNameLength]\r\n",
                "FROM\r\n",
                "    [Categories]"
            ],
            "metadata": {
                "azdata_cell_guid": "e3daa5e3-bccc-4f2b-b603-2b4a31b41e1a",
                "language": "sql"
            },
            "outputs": [
                {
                    "output_type": "display_data",
                    "data": {
                        "text/html": "(13 rows affected)"
                    },
                    "metadata": {}
                },
                {
                    "output_type": "display_data",
                    "data": {
                        "text/html": "Total execution time: 00:00:00.019"
                    },
                    "metadata": {}
                },
                {
                    "output_type": "execute_result",
                    "metadata": {},
                    "execution_count": 5,
                    "data": {
                        "application/vnd.dataresource+json": {
                            "schema": {
                                "fields": [
                                    {
                                        "name": "CategoryName"
                                    },
                                    {
                                        "name": "CategoryNameLength"
                                    }
                                ]
                            },
                            "data": [
                                {
                                    "CategoryName": "Beverages",
                                    "CategoryNameLength": "9"
                                },
                                {
                                    "CategoryName": "Category 1",
                                    "CategoryNameLength": "10"
                                },
                                {
                                    "CategoryName": "Category 2",
                                    "CategoryNameLength": "10"
                                },
                                {
                                    "CategoryName": "Category 3",
                                    "CategoryNameLength": "10"
                                },
                                {
                                    "CategoryName": "Category 4",
                                    "CategoryNameLength": "10"
                                },
                                {
                                    "CategoryName": "Condiments",
                                    "CategoryNameLength": "10"
                                },
                                {
                                    "CategoryName": "Confections",
                                    "CategoryNameLength": "11"
                                },
                                {
                                    "CategoryName": "Dairy Products",
                                    "CategoryNameLength": "14"
                                },
                                {
                                    "CategoryName": "Grains/Cereals",
                                    "CategoryNameLength": "14"
                                },
                                {
                                    "CategoryName": "Meat/Poultry",
                                    "CategoryNameLength": "12"
                                },
                                {
                                    "CategoryName": "New Cat",
                                    "CategoryNameLength": "7"
                                },
                                {
                                    "CategoryName": "Produce",
                                    "CategoryNameLength": "7"
                                },
                                {
                                    "CategoryName": "Seafood",
                                    "CategoryNameLength": "7"
                                }
                            ]
                        },
                        "text/html": [
                            "<table>",
                            "<tr><th>CategoryName</th><th>CategoryNameLength</th></tr>",
                            "<tr><td>Beverages</td><td>9</td></tr>",
                            "<tr><td>Category 1</td><td>10</td></tr>",
                            "<tr><td>Category 2</td><td>10</td></tr>",
                            "<tr><td>Category 3</td><td>10</td></tr>",
                            "<tr><td>Category 4</td><td>10</td></tr>",
                            "<tr><td>Condiments</td><td>10</td></tr>",
                            "<tr><td>Confections</td><td>11</td></tr>",
                            "<tr><td>Dairy Products</td><td>14</td></tr>",
                            "<tr><td>Grains/Cereals</td><td>14</td></tr>",
                            "<tr><td>Meat/Poultry</td><td>12</td></tr>",
                            "<tr><td>New Cat</td><td>7</td></tr>",
                            "<tr><td>Produce</td><td>7</td></tr>",
                            "<tr><td>Seafood</td><td>7</td></tr>",
                            "</table>"
                        ]
                    }
                }
            ],
            "execution_count": 5
        },
        {
            "cell_type": "code",
            "source": [
                "SELECT SUBSTRING('Simon', 2, 3)"
            ],
            "metadata": {
                "azdata_cell_guid": "a9195cc5-76bf-44b2-b5e5-add708522eed",
                "language": "sql"
            },
            "outputs": [
                {
                    "output_type": "display_data",
                    "data": {
                        "text/html": "(1 row affected)"
                    },
                    "metadata": {}
                },
                {
                    "output_type": "display_data",
                    "data": {
                        "text/html": "Total execution time: 00:00:00.038"
                    },
                    "metadata": {}
                },
                {
                    "output_type": "execute_result",
                    "metadata": {},
                    "execution_count": 7,
                    "data": {
                        "application/vnd.dataresource+json": {
                            "schema": {
                                "fields": [
                                    {
                                        "name": "(No column name)"
                                    }
                                ]
                            },
                            "data": [
                                {
                                    "(No column name)": "imo"
                                }
                            ]
                        },
                        "text/html": [
                            "<table>",
                            "<tr><th>(No column name)</th></tr>",
                            "<tr><td>imo</td></tr>",
                            "</table>"
                        ]
                    }
                }
            ],
            "execution_count": 7
        },
        {
            "cell_type": "code",
            "source": [
                "SELECT\r\n",
                "    [CategoryName],\r\n",
                "    SUBSTRING([CategoryName], 2, 3) AS [SubString]\r\n",
                "FROM\r\n",
                "    [Categories]"
            ],
            "metadata": {
                "azdata_cell_guid": "17400ebb-479f-4c45-ae83-2802e8e94e34",
                "language": "sql"
            },
            "outputs": [
                {
                    "output_type": "display_data",
                    "data": {
                        "text/html": "(13 rows affected)"
                    },
                    "metadata": {}
                },
                {
                    "output_type": "display_data",
                    "data": {
                        "text/html": "Total execution time: 00:00:00.076"
                    },
                    "metadata": {}
                },
                {
                    "output_type": "execute_result",
                    "metadata": {},
                    "execution_count": 11,
                    "data": {
                        "application/vnd.dataresource+json": {
                            "schema": {
                                "fields": [
                                    {
                                        "name": "CategoryName"
                                    },
                                    {
                                        "name": "SubString"
                                    }
                                ]
                            },
                            "data": [
                                {
                                    "CategoryName": "Beverages",
                                    "SubString": "oft"
                                },
                                {
                                    "CategoryName": "Condiments",
                                    "SubString": "wee"
                                },
                                {
                                    "CategoryName": "Confections",
                                    "SubString": "ess"
                                },
                                {
                                    "CategoryName": "Dairy Products",
                                    "SubString": "hee"
                                },
                                {
                                    "CategoryName": "Grains/Cereals",
                                    "SubString": "rea"
                                },
                                {
                                    "CategoryName": "Meat/Poultry",
                                    "SubString": "rep"
                                },
                                {
                                    "CategoryName": "Produce",
                                    "SubString": "rie"
                                },
                                {
                                    "CategoryName": "Seafood",
                                    "SubString": "eaw"
                                },
                                {
                                    "CategoryName": "New Cat",
                                    "SubString": "NULL"
                                },
                                {
                                    "CategoryName": "Category 1",
                                    "SubString": "ate"
                                },
                                {
                                    "CategoryName": "Category 2",
                                    "SubString": "ate"
                                },
                                {
                                    "CategoryName": "Category 3",
                                    "SubString": "ate"
                                },
                                {
                                    "CategoryName": "Category 4",
                                    "SubString": "ate"
                                }
                            ]
                        },
                        "text/html": [
                            "<table>",
                            "<tr><th>CategoryName</th><th>SubString</th></tr>",
                            "<tr><td>Beverages</td><td>oft</td></tr>",
                            "<tr><td>Condiments</td><td>wee</td></tr>",
                            "<tr><td>Confections</td><td>ess</td></tr>",
                            "<tr><td>Dairy Products</td><td>hee</td></tr>",
                            "<tr><td>Grains/Cereals</td><td>rea</td></tr>",
                            "<tr><td>Meat/Poultry</td><td>rep</td></tr>",
                            "<tr><td>Produce</td><td>rie</td></tr>",
                            "<tr><td>Seafood</td><td>eaw</td></tr>",
                            "<tr><td>New Cat</td><td>NULL</td></tr>",
                            "<tr><td>Category 1</td><td>ate</td></tr>",
                            "<tr><td>Category 2</td><td>ate</td></tr>",
                            "<tr><td>Category 3</td><td>ate</td></tr>",
                            "<tr><td>Category 4</td><td>ate</td></tr>",
                            "</table>"
                        ]
                    }
                }
            ],
            "execution_count": 11
        },
        {
            "cell_type": "code",
            "source": [
                "SELECT CHARINDEX('Simon', 'Hello Simon')"
            ],
            "metadata": {
                "azdata_cell_guid": "8104da65-5797-44de-ad84-1257f7eb7753",
                "language": "sql"
            },
            "outputs": [
                {
                    "output_type": "display_data",
                    "data": {
                        "text/html": "(1 row affected)"
                    },
                    "metadata": {}
                },
                {
                    "output_type": "display_data",
                    "data": {
                        "text/html": "Total execution time: 00:00:00.011"
                    },
                    "metadata": {}
                },
                {
                    "output_type": "execute_result",
                    "metadata": {},
                    "execution_count": 14,
                    "data": {
                        "application/vnd.dataresource+json": {
                            "schema": {
                                "fields": [
                                    {
                                        "name": "(No column name)"
                                    }
                                ]
                            },
                            "data": [
                                {
                                    "(No column name)": "7"
                                }
                            ]
                        },
                        "text/html": [
                            "<table>",
                            "<tr><th>(No column name)</th></tr>",
                            "<tr><td>7</td></tr>",
                            "</table>"
                        ]
                    }
                }
            ],
            "execution_count": 14
        },
        {
            "cell_type": "code",
            "source": [
                "SELECT\r\n",
                "    [CategoryName],\r\n",
                "    CHARINDEX('e', [CategoryName])\r\n",
                "FROM\r\n",
                "    [Categories]"
            ],
            "metadata": {
                "azdata_cell_guid": "74c562ad-dab6-426f-a6d8-b4dec9aa8ce3",
                "language": "sql"
            },
            "outputs": [
                {
                    "output_type": "display_data",
                    "data": {
                        "text/html": "(13 rows affected)"
                    },
                    "metadata": {}
                },
                {
                    "output_type": "display_data",
                    "data": {
                        "text/html": "Total execution time: 00:00:00.013"
                    },
                    "metadata": {}
                },
                {
                    "output_type": "execute_result",
                    "metadata": {},
                    "execution_count": 15,
                    "data": {
                        "application/vnd.dataresource+json": {
                            "schema": {
                                "fields": [
                                    {
                                        "name": "CategoryName"
                                    },
                                    {
                                        "name": "(No column name)"
                                    }
                                ]
                            },
                            "data": [
                                {
                                    "CategoryName": "Beverages",
                                    "(No column name)": "2"
                                },
                                {
                                    "CategoryName": "Category 1",
                                    "(No column name)": "4"
                                },
                                {
                                    "CategoryName": "Category 2",
                                    "(No column name)": "4"
                                },
                                {
                                    "CategoryName": "Category 3",
                                    "(No column name)": "4"
                                },
                                {
                                    "CategoryName": "Category 4",
                                    "(No column name)": "4"
                                },
                                {
                                    "CategoryName": "Condiments",
                                    "(No column name)": "7"
                                },
                                {
                                    "CategoryName": "Confections",
                                    "(No column name)": "5"
                                },
                                {
                                    "CategoryName": "Dairy Products",
                                    "(No column name)": "0"
                                },
                                {
                                    "CategoryName": "Grains/Cereals",
                                    "(No column name)": "9"
                                },
                                {
                                    "CategoryName": "Meat/Poultry",
                                    "(No column name)": "2"
                                },
                                {
                                    "CategoryName": "New Cat",
                                    "(No column name)": "2"
                                },
                                {
                                    "CategoryName": "Produce",
                                    "(No column name)": "7"
                                },
                                {
                                    "CategoryName": "Seafood",
                                    "(No column name)": "2"
                                }
                            ]
                        },
                        "text/html": [
                            "<table>",
                            "<tr><th>CategoryName</th><th>(No column name)</th></tr>",
                            "<tr><td>Beverages</td><td>2</td></tr>",
                            "<tr><td>Category 1</td><td>4</td></tr>",
                            "<tr><td>Category 2</td><td>4</td></tr>",
                            "<tr><td>Category 3</td><td>4</td></tr>",
                            "<tr><td>Category 4</td><td>4</td></tr>",
                            "<tr><td>Condiments</td><td>7</td></tr>",
                            "<tr><td>Confections</td><td>5</td></tr>",
                            "<tr><td>Dairy Products</td><td>0</td></tr>",
                            "<tr><td>Grains/Cereals</td><td>9</td></tr>",
                            "<tr><td>Meat/Poultry</td><td>2</td></tr>",
                            "<tr><td>New Cat</td><td>2</td></tr>",
                            "<tr><td>Produce</td><td>7</td></tr>",
                            "<tr><td>Seafood</td><td>2</td></tr>",
                            "</table>"
                        ]
                    }
                }
            ],
            "execution_count": 15
        }
    ]
}