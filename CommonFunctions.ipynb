{
    "metadata": {
        "kernelspec": {
            "name": "SQL",
            "display_name": "SQL",
            "language": "sql"
        },
        "language_info": {
            "name": "sql",
            "version": ""
        }
    },
    "nbformat_minor": 2,
    "nbformat": 4,
    "cells": [
        {
            "cell_type": "code",
            "source": [
                "SELECT LEN('Simon')"
            ],
            "metadata": {
                "azdata_cell_guid": "d094ff2c-f00d-4ba2-bbba-4c4bd4fffa37",
                "language": "sql"
            },
            "outputs": [
                {
                    "output_type": "display_data",
                    "data": {
                        "text/html": "(1 row affected)"
                    },
                    "metadata": {}
                },
                {
                    "output_type": "display_data",
                    "data": {
                        "text/html": "Total execution time: 00:00:00.008"
                    },
                    "metadata": {}
                },
                {
                    "output_type": "execute_result",
                    "metadata": {},
                    "execution_count": 1,
                    "data": {
                        "application/vnd.dataresource+json": {
                            "schema": {
                                "fields": [
                                    {
                                        "name": "(No column name)"
                                    }
                                ]
                            },
                            "data": [
                                {
                                    "(No column name)": "5"
                                }
                            ]
                        },
                        "text/html": [
                            "<table>",
                            "<tr><th>(No column name)</th></tr>",
                            "<tr><td>5</td></tr>",
                            "</table>"
                        ]
                    }
                }
            ],
            "execution_count": 1
        },
        {
            "cell_type": "code",
            "source": [
                "SELECT\r\n",
                "    [CategoryName],\r\n",
                "    LEN([CategoryName]) AS [CategoryNameLength]\r\n",
                "FROM\r\n",
                "    [Categories]"
            ],
            "metadata": {
                "azdata_cell_guid": "e3daa5e3-bccc-4f2b-b603-2b4a31b41e1a",
                "language": "sql"
            },
            "outputs": [
{
    "output_type": "display_data",
    "data": {
        "text/html": "(13 rows affected)"
    },
    "metadata": {}
}, {
    "output_type": "display_data",
    "data": {
        "text/html": "Total execution time: 00:00:00.019"
    },
    "metadata": {}
}, {
    "output_type": "execute_result",
    "metadata": {},
    "execution_count": 5,
    "data": {
        "application/vnd.dataresource+json": {
            "schema": {
                "fields": [
                    {
                        "name": "CategoryName"
                    },
                    {
                        "name": "CategoryNameLength"
                    }
                ]
            },
            "data": [
                {
                    "CategoryName": "Beverages",
                    "CategoryNameLength": "9"
                },
                {
                    "CategoryName": "Category 1",
                    "CategoryNameLength": "10"
                },
                {
                    "CategoryName": "Category 2",
                    "CategoryNameLength": "10"
                },
                {
                    "CategoryName": "Category 3",
                    "CategoryNameLength": "10"
                },
                {
                    "CategoryName": "Category 4",
                    "CategoryNameLength": "10"
                },
                {
                    "CategoryName": "Condiments",
                    "CategoryNameLength": "10"
                },
                {
                    "CategoryName": "Confections",
                    "CategoryNameLength": "11"
                },
                {
                    "CategoryName": "Dairy Products",
                    "CategoryNameLength": "14"
                },
                {
                    "CategoryName": "Grains/Cereals",
                    "CategoryNameLength": "14"
                },
                {
                    "CategoryName": "Meat/Poultry",
                    "CategoryNameLength": "12"
                },
                {
                    "CategoryName": "New Cat",
                    "CategoryNameLength": "7"
                },
                {
                    "CategoryName": "Produce",
                    "CategoryNameLength": "7"
                },
                {
                    "CategoryName": "Seafood",
                    "CategoryNameLength": "7"
                }
            ]
        },
        "text/html": [
            "<table>",
            "<tr><th>CategoryName</th><th>CategoryNameLength</th></tr>",
            "<tr><td>Beverages</td><td>9</td></tr>",
            "<tr><td>Category 1</td><td>10</td></tr>",
            "<tr><td>Category 2</td><td>10</td></tr>",
            "<tr><td>Category 3</td><td>10</td></tr>",
            "<tr><td>Category 4</td><td>10</td></tr>",
            "<tr><td>Condiments</td><td>10</td></tr>",
            "<tr><td>Confections</td><td>11</td></tr>",
            "<tr><td>Dairy Products</td><td>14</td></tr>",
            "<tr><td>Grains/Cereals</td><td>14</td></tr>",
            "<tr><td>Meat/Poultry</td><td>12</td></tr>",
            "<tr><td>New Cat</td><td>7</td></tr>",
            "<tr><td>Produce</td><td>7</td></tr>",
            "<tr><td>Seafood</td><td>7</td></tr>",
            "</table>"
        ]
    }
}
],
            "execution_count": 5
        }
    ]
}