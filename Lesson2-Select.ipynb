{
    "metadata": {
        "kernelspec": {
            "name": "SQL",
            "display_name": "SQL",
            "language": "sql"
        },
        "language_info": {
            "name": "sql",
            "version": ""
        }
    },
    "nbformat_minor": 2,
    "nbformat": 4,
    "cells": [
        {
            "cell_type": "code",
            "source": [
                "USE [MyLibrary];"
            ],
            "metadata": {
                "azdata_cell_guid": "631ec12b-f178-443c-925f-1f4398bbf1eb",
                "language": "sql"
            },
            "outputs": [
                {
                    "output_type": "display_data",
                    "data": {
                        "text/html": "Commands completed successfully."
                    },
                    "metadata": {}
                },
                {
                    "output_type": "display_data",
                    "data": {
                        "text/html": "Total execution time: 00:00:00.003"
                    },
                    "metadata": {}
                }
            ],
            "execution_count": 2
        },
        {
            "cell_type": "code",
            "source": [
                "SELECT \r\n",
                "    [Password] AS [Pwd],\r\n",
                "    [FirstName] + ' ' + [LastName] AS [FullName]\r\n",
                "FROM\r\n",
                "    [Users]"
            ],
            "metadata": {
                "language": "sql",
                "azdata_cell_guid": "e7bf5239-185b-4ac8-bda1-219dec797f5f"
            },
            "outputs": [
                {
                    "output_type": "display_data",
                    "data": {
                        "text/html": "(2 rows affected)"
                    },
                    "metadata": {}
                },
                {
                    "output_type": "display_data",
                    "data": {
                        "text/html": "Total execution time: 00:00:00.019"
                    },
                    "metadata": {}
                },
                {
                    "output_type": "execute_result",
                    "execution_count": 8,
                    "data": {
                        "application/vnd.dataresource+json": {
                            "schema": {
                                "fields": [
                                    {
                                        "name": "Pwd"
                                    },
                                    {
                                        "name": "FullName"
                                    }
                                ]
                            },
                            "data": [
                                {
                                    "Pwd": "1234",
                                    "FullName": "Simon Stirling"
                                },
                                {
                                    "Pwd": "4444555",
                                    "FullName": "Jane Doe"
                                }
                            ]
                        },
                        "text/html": "<table><tr><th>Pwd</th><th>FullName</th></tr><tr><td>1234</td><td>Simon Stirling</td></tr><tr><td>4444555</td><td>Jane Doe</td></tr></table>"
                    },
                    "metadata": {}
                }
            ],
            "execution_count": 8
        },
        {
            "cell_type": "code",
            "source": [
                "SELECT\r\n",
                "    *\r\n",
                "FROM\r\n",
                "    [Users]"
            ],
            "metadata": {
                "language": "sql",
                "azdata_cell_guid": "48fa88a9-c621-4f92-b1bf-a84f84f0ddd1"
            },
            "outputs": [
                {
                    "output_type": "display_data",
                    "data": {
                        "text/html": "(2 rows affected)"
                    },
                    "metadata": {}
                },
                {
                    "output_type": "display_data",
                    "data": {
                        "text/html": "Total execution time: 00:00:00.047"
                    },
                    "metadata": {}
                },
                {
                    "output_type": "execute_result",
                    "execution_count": 11,
                    "data": {
                        "application/vnd.dataresource+json": {
                            "schema": {
                                "fields": [
                                    {
                                        "name": "ID"
                                    },
                                    {
                                        "name": "FirstName"
                                    },
                                    {
                                        "name": "LastName"
                                    },
                                    {
                                        "name": "Password"
                                    },
                                    {
                                        "name": "LastLogin"
                                    },
                                    {
                                        "name": "UserName"
                                    }
                                ]
                            },
                            "data": [
                                {
                                    "ID": "1",
                                    "FirstName": "Simon",
                                    "LastName": "Stirling",
                                    "Password": "1234",
                                    "LastLogin": "2024-01-01 00:00:00.000",
                                    "UserName": "simonsbs"
                                },
                                {
                                    "ID": "3",
                                    "FirstName": "Jane",
                                    "LastName": "Doe",
                                    "Password": "4444555",
                                    "LastLogin": "2020-01-01 00:00:00.000",
                                    "UserName": "user1"
                                }
                            ]
                        },
                        "text/html": "<table><tr><th>ID</th><th>FirstName</th><th>LastName</th><th>Password</th><th>LastLogin</th><th>UserName</th></tr><tr><td>1</td><td>Simon</td><td>Stirling</td><td>1234</td><td>2024-01-01 00:00:00.000</td><td>simonsbs</td></tr><tr><td>3</td><td>Jane</td><td>Doe</td><td>4444555</td><td>2020-01-01 00:00:00.000</td><td>user1</td></tr></table>"
                    },
                    "metadata": {}
                }
            ],
            "execution_count": 11
        },
        {
            "cell_type": "code",
            "source": [
                "SELECT\r\n",
                "    [ID],\r\n",
                "    [FirstName]\r\n",
                "FROM\r\n",
                "    [Users]"
            ],
            "metadata": {
                "language": "sql",
                "azdata_cell_guid": "84c16000-ec5c-4cf4-8194-addd5baa2539",
                "tags": []
            },
            "outputs": [
                {
                    "output_type": "display_data",
                    "data": {
                        "text/html": "(5 rows affected)"
                    },
                    "metadata": {}
                },
                {
                    "output_type": "display_data",
                    "data": {
                        "text/html": "Total execution time: 00:00:00.036"
                    },
                    "metadata": {}
                },
                {
                    "output_type": "execute_result",
                    "execution_count": 13,
                    "data": {
                        "application/vnd.dataresource+json": {
                            "schema": {
                                "fields": [
                                    {
                                        "name": "ID"
                                    },
                                    {
                                        "name": "FirstName"
                                    }
                                ]
                            },
                            "data": [
                                {
                                    "ID": "1",
                                    "FirstName": "Simon"
                                },
                                {
                                    "ID": "4",
                                    "FirstName": "aaa"
                                },
                                {
                                    "ID": "3",
                                    "FirstName": "Jane"
                                },
                                {
                                    "ID": "5",
                                    "FirstName": "bbb"
                                },
                                {
                                    "ID": "6",
                                    "FirstName": "ccc"
                                }
                            ]
                        },
                        "text/html": "<table><tr><th>ID</th><th>FirstName</th></tr><tr><td>1</td><td>Simon</td></tr><tr><td>4</td><td>aaa</td></tr><tr><td>3</td><td>Jane</td></tr><tr><td>5</td><td>bbb</td></tr><tr><td>6</td><td>ccc</td></tr></table>"
                    },
                    "metadata": {}
                }
            ],
            "execution_count": 13
        },
        {
            "cell_type": "code",
            "source": [
                "SELECT\r\n",
                "    *\r\n",
                "FROM\r\n",
                "    [Users]\r\n",
                "WHERE\r\n",
                "    [ID] = 3\r\n",
                "    OR\r\n",
                "    [FirstName] = 'Simon'"
            ],
            "metadata": {
                "language": "sql",
                "azdata_cell_guid": "931f1241-fb7c-4d99-b7bf-8bfeb50c0ae6"
            },
            "outputs": [
                {
                    "output_type": "display_data",
                    "data": {
                        "text/html": "(2 rows affected)"
                    },
                    "metadata": {}
                },
                {
                    "output_type": "display_data",
                    "data": {
                        "text/html": "Total execution time: 00:00:00.008"
                    },
                    "metadata": {}
                },
                {
                    "output_type": "execute_result",
                    "execution_count": 11,
                    "data": {
                        "application/vnd.dataresource+json": {
                            "schema": {
                                "fields": [
                                    {
                                        "name": "ID"
                                    },
                                    {
                                        "name": "FirstName"
                                    },
                                    {
                                        "name": "LastName"
                                    },
                                    {
                                        "name": "Password"
                                    },
                                    {
                                        "name": "LastLogin"
                                    },
                                    {
                                        "name": "UserName"
                                    }
                                ]
                            },
                            "data": [
                                {
                                    "ID": "1",
                                    "FirstName": "Simon",
                                    "LastName": "Stirling",
                                    "Password": "1234",
                                    "LastLogin": "2024-01-01 00:00:00.000",
                                    "UserName": "simonsbs"
                                },
                                {
                                    "ID": "3",
                                    "FirstName": "Jane",
                                    "LastName": "Doe",
                                    "Password": "4444555",
                                    "LastLogin": "2020-01-01 00:00:00.000",
                                    "UserName": "user1"
                                }
                            ]
                        },
                        "text/html": "<table><tr><th>ID</th><th>FirstName</th><th>LastName</th><th>Password</th><th>LastLogin</th><th>UserName</th></tr><tr><td>1</td><td>Simon</td><td>Stirling</td><td>1234</td><td>2024-01-01 00:00:00.000</td><td>simonsbs</td></tr><tr><td>3</td><td>Jane</td><td>Doe</td><td>4444555</td><td>2020-01-01 00:00:00.000</td><td>user1</td></tr></table>"
                    },
                    "metadata": {}
                }
            ],
            "execution_count": 11
        },
        {
            "cell_type": "code",
            "source": [
                "SELECT\r\n",
                "    *\r\n",
                "FROM\r\n",
                "    [Users]\r\n",
                "WHERE\r\n",
                "    [ID] = 3\r\n",
                "    AND\r\n",
                "    [FirstName] = 'Simon'"
            ],
            "metadata": {
                "language": "sql",
                "azdata_cell_guid": "2fb0a2fa-8ca6-450b-b51f-a9c5fc910a5e"
            },
            "outputs": [
                {
                    "output_type": "display_data",
                    "data": {
                        "text/html": "(0 rows affected)"
                    },
                    "metadata": {}
                },
                {
                    "output_type": "display_data",
                    "data": {
                        "text/html": "Total execution time: 00:00:00.007"
                    },
                    "metadata": {}
                },
                {
                    "output_type": "execute_result",
                    "execution_count": 12,
                    "data": {
                        "application/vnd.dataresource+json": {
                            "schema": {
                                "fields": [
                                    {
                                        "name": "ID"
                                    },
                                    {
                                        "name": "FirstName"
                                    },
                                    {
                                        "name": "LastName"
                                    },
                                    {
                                        "name": "Password"
                                    },
                                    {
                                        "name": "LastLogin"
                                    },
                                    {
                                        "name": "UserName"
                                    }
                                ]
                            },
                            "data": []
                        },
                        "text/html": "<table><tr><th>ID</th><th>FirstName</th><th>LastName</th><th>Password</th><th>LastLogin</th><th>UserName</th></tr></table>"
                    },
                    "metadata": {}
                }
            ],
            "execution_count": 12
        },
        {
            "cell_type": "code",
            "source": [
                "SELECT\r\n",
                "    *\r\n",
                "FROM\r\n",
                "    [Users]\r\n",
                "WHERE\r\n",
                "    [ID] BETWEEN 3 AND 5"
            ],
            "metadata": {
                "language": "sql",
                "azdata_cell_guid": "caade51d-7230-4dff-8326-f41bc218a550",
                "tags": []
            },
            "outputs": [
                {
                    "output_type": "display_data",
                    "data": {
                        "text/html": "(3 rows affected)"
                    },
                    "metadata": {}
                },
                {
                    "output_type": "display_data",
                    "data": {
                        "text/html": "Total execution time: 00:00:00.008"
                    },
                    "metadata": {}
                },
                {
                    "output_type": "execute_result",
                    "execution_count": 16,
                    "data": {
                        "application/vnd.dataresource+json": {
                            "schema": {
                                "fields": [
                                    {
                                        "name": "ID"
                                    },
                                    {
                                        "name": "FirstName"
                                    },
                                    {
                                        "name": "LastName"
                                    },
                                    {
                                        "name": "Password"
                                    },
                                    {
                                        "name": "LastLogin"
                                    },
                                    {
                                        "name": "UserName"
                                    }
                                ]
                            },
                            "data": [
                                {
                                    "ID": "4",
                                    "FirstName": "aaa",
                                    "LastName": "aaa",
                                    "Password": "aaa",
                                    "LastLogin": "2020-01-01 00:00:00.000",
                                    "UserName": "aaa"
                                },
                                {
                                    "ID": "3",
                                    "FirstName": "Jane",
                                    "LastName": "Doe",
                                    "Password": "4444555",
                                    "LastLogin": "2020-01-01 00:00:00.000",
                                    "UserName": "user1"
                                },
                                {
                                    "ID": "5",
                                    "FirstName": "bbb",
                                    "LastName": "bbb",
                                    "Password": "bbb",
                                    "LastLogin": "2020-01-01 00:00:00.000",
                                    "UserName": "bbb"
                                }
                            ]
                        },
                        "text/html": "<table><tr><th>ID</th><th>FirstName</th><th>LastName</th><th>Password</th><th>LastLogin</th><th>UserName</th></tr><tr><td>4</td><td>aaa</td><td>aaa</td><td>aaa</td><td>2020-01-01 00:00:00.000</td><td>aaa</td></tr><tr><td>3</td><td>Jane</td><td>Doe</td><td>4444555</td><td>2020-01-01 00:00:00.000</td><td>user1</td></tr><tr><td>5</td><td>bbb</td><td>bbb</td><td>bbb</td><td>2020-01-01 00:00:00.000</td><td>bbb</td></tr></table>"
                    },
                    "metadata": {}
                }
            ],
            "execution_count": 16
        },
        {
            "cell_type": "code",
            "source": [
                "USE [NorthWind]"
            ],
            "metadata": {
                "language": "sql",
                "azdata_cell_guid": "f87b10c2-b8d2-46f3-adba-257534a52f11"
            },
            "outputs": [
                {
                    "output_type": "display_data",
                    "data": {
                        "text/html": "Commands completed successfully."
                    },
                    "metadata": {}
                },
                {
                    "output_type": "display_data",
                    "data": {
                        "text/html": "Total execution time: 00:00:00.123"
                    },
                    "metadata": {}
                }
            ],
            "execution_count": 2
        },
        {
            "cell_type": "code",
            "source": [
                "SELECT\r\n",
                "    *\r\n",
                "FROM\r\n",
                "    [Products]"
            ],
            "metadata": {
                "language": "sql",
                "azdata_cell_guid": "2518dff3-f2c0-49b8-bf2d-f73252935826"
            },
            "outputs": [
                {
                    "output_type": "display_data",
                    "data": {
                        "text/html": "(77 rows affected)"
                    },
                    "metadata": {}
                },
                {
                    "output_type": "display_data",
                    "data": {
                        "text/html": "Total execution time: 00:00:00.133"
                    },
                    "metadata": {}
                },
                {
                    "output_type": "execute_result",
                    "execution_count": 3,
                    "data": {
                        "application/vnd.dataresource+json": {
                            "schema": {
                                "fields": [
                                    {
                                        "name": "ProductID"
                                    },
                                    {
                                        "name": "ProductName"
                                    },
                                    {
                                        "name": "SupplierID"
                                    },
                                    {
                                        "name": "CategoryID"
                                    },
                                    {
                                        "name": "QuantityPerUnit"
                                    },
                                    {
                                        "name": "UnitPrice"
                                    },
                                    {
                                        "name": "UnitsInStock"
                                    },
                                    {
                                        "name": "UnitsOnOrder"
                                    },
                                    {
                                        "name": "ReorderLevel"
                                    },
                                    {
                                        "name": "Discontinued"
                                    }
                                ]
                            },
                            "data": [
                                {
                                    "ProductID": "1",
                                    "ProductName": "Chai",
                                    "SupplierID": "1",
                                    "CategoryID": "1",
                                    "QuantityPerUnit": "10 boxes x 20 bags",
                                    "UnitPrice": "18.00",
                                    "UnitsInStock": "39",
                                    "UnitsOnOrder": "0",
                                    "ReorderLevel": "10",
                                    "Discontinued": "0"
                                },
                                {
                                    "ProductID": "2",
                                    "ProductName": "Chang",
                                    "SupplierID": "1",
                                    "CategoryID": "1",
                                    "QuantityPerUnit": "24 - 12 oz bottles",
                                    "UnitPrice": "19.00",
                                    "UnitsInStock": "17",
                                    "UnitsOnOrder": "40",
                                    "ReorderLevel": "25",
                                    "Discontinued": "0"
                                },
                                {
                                    "ProductID": "3",
                                    "ProductName": "Aniseed Syrup",
                                    "SupplierID": "1",
                                    "CategoryID": "2",
                                    "QuantityPerUnit": "12 - 550 ml bottles",
                                    "UnitPrice": "10.00",
                                    "UnitsInStock": "13",
                                    "UnitsOnOrder": "70",
                                    "ReorderLevel": "25",
                                    "Discontinued": "0"
                                },
                                {
                                    "ProductID": "4",
                                    "ProductName": "Chef Anton's Cajun Seasoning",
                                    "SupplierID": "2",
                                    "CategoryID": "2",
                                    "QuantityPerUnit": "48 - 6 oz jars",
                                    "UnitPrice": "22.00",
                                    "UnitsInStock": "53",
                                    "UnitsOnOrder": "0",
                                    "ReorderLevel": "0",
                                    "Discontinued": "0"
                                },
                                {
                                    "ProductID": "5",
                                    "ProductName": "Chef Anton's Gumbo Mix",
                                    "SupplierID": "2",
                                    "CategoryID": "2",
                                    "QuantityPerUnit": "36 boxes",
                                    "UnitPrice": "21.35",
                                    "UnitsInStock": "0",
                                    "UnitsOnOrder": "0",
                                    "ReorderLevel": "0",
                                    "Discontinued": "1"
                                },
                                {
                                    "ProductID": "6",
                                    "ProductName": "Grandma's Boysenberry Spread",
                                    "SupplierID": "3",
                                    "CategoryID": "2",
                                    "QuantityPerUnit": "12 - 8 oz jars",
                                    "UnitPrice": "25.00",
                                    "UnitsInStock": "120",
                                    "UnitsOnOrder": "0",
                                    "ReorderLevel": "25",
                                    "Discontinued": "0"
                                },
                                {
                                    "ProductID": "7",
                                    "ProductName": "Uncle Bob's Organic Dried Pears",
                                    "SupplierID": "3",
                                    "CategoryID": "7",
                                    "QuantityPerUnit": "12 - 1 lb pkgs.",
                                    "UnitPrice": "30.00",
                                    "UnitsInStock": "15",
                                    "UnitsOnOrder": "0",
                                    "ReorderLevel": "10",
                                    "Discontinued": "0"
                                },
                                {
                                    "ProductID": "8",
                                    "ProductName": "Northwoods Cranberry Sauce",
                                    "SupplierID": "3",
                                    "CategoryID": "2",
                                    "QuantityPerUnit": "12 - 12 oz jars",
                                    "UnitPrice": "40.00",
                                    "UnitsInStock": "6",
                                    "UnitsOnOrder": "0",
                                    "ReorderLevel": "0",
                                    "Discontinued": "0"
                                },
                                {
                                    "ProductID": "9",
                                    "ProductName": "Mishi Kobe Niku",
                                    "SupplierID": "4",
                                    "CategoryID": "6",
                                    "QuantityPerUnit": "18 - 500 g pkgs.",
                                    "UnitPrice": "97.00",
                                    "UnitsInStock": "29",
                                    "UnitsOnOrder": "0",
                                    "ReorderLevel": "0",
                                    "Discontinued": "1"
                                },
                                {
                                    "ProductID": "10",
                                    "ProductName": "Ikura",
                                    "SupplierID": "4",
                                    "CategoryID": "8",
                                    "QuantityPerUnit": "12 - 200 ml jars",
                                    "UnitPrice": "31.00",
                                    "UnitsInStock": "31",
                                    "UnitsOnOrder": "0",
                                    "ReorderLevel": "0",
                                    "Discontinued": "0"
                                },
                                {
                                    "ProductID": "11",
                                    "ProductName": "Queso Cabrales",
                                    "SupplierID": "5",
                                    "CategoryID": "4",
                                    "QuantityPerUnit": "1 kg pkg.",
                                    "UnitPrice": "21.00",
                                    "UnitsInStock": "22",
                                    "UnitsOnOrder": "30",
                                    "ReorderLevel": "30",
                                    "Discontinued": "0"
                                },
                                {
                                    "ProductID": "12",
                                    "ProductName": "Queso Manchego La Pastora",
                                    "SupplierID": "5",
                                    "CategoryID": "4",
                                    "QuantityPerUnit": "10 - 500 g pkgs.",
                                    "UnitPrice": "38.00",
                                    "UnitsInStock": "86",
                                    "UnitsOnOrder": "0",
                                    "ReorderLevel": "0",
                                    "Discontinued": "0"
                                },
                                {
                                    "ProductID": "13",
                                    "ProductName": "Konbu",
                                    "SupplierID": "6",
                                    "CategoryID": "8",
                                    "QuantityPerUnit": "2 kg box",
                                    "UnitPrice": "6.00",
                                    "UnitsInStock": "24",
                                    "UnitsOnOrder": "0",
                                    "ReorderLevel": "5",
                                    "Discontinued": "0"
                                },
                                {
                                    "ProductID": "14",
                                    "ProductName": "Tofu",
                                    "SupplierID": "6",
                                    "CategoryID": "7",
                                    "QuantityPerUnit": "40 - 100 g pkgs.",
                                    "UnitPrice": "23.25",
                                    "UnitsInStock": "35",
                                    "UnitsOnOrder": "0",
                                    "ReorderLevel": "0",
                                    "Discontinued": "0"
                                },
                                {
                                    "ProductID": "15",
                                    "ProductName": "Genen Shouyu",
                                    "SupplierID": "6",
                                    "CategoryID": "2",
                                    "QuantityPerUnit": "24 - 250 ml bottles",
                                    "UnitPrice": "15.50",
                                    "UnitsInStock": "39",
                                    "UnitsOnOrder": "0",
                                    "ReorderLevel": "5",
                                    "Discontinued": "0"
                                },
                                {
                                    "ProductID": "16",
                                    "ProductName": "Pavlova",
                                    "SupplierID": "7",
                                    "CategoryID": "3",
                                    "QuantityPerUnit": "32 - 500 g boxes",
                                    "UnitPrice": "17.45",
                                    "UnitsInStock": "29",
                                    "UnitsOnOrder": "0",
                                    "ReorderLevel": "10",
                                    "Discontinued": "0"
                                },
                                {
                                    "ProductID": "17",
                                    "ProductName": "Alice Mutton",
                                    "SupplierID": "7",
                                    "CategoryID": "6",
                                    "QuantityPerUnit": "20 - 1 kg tins",
                                    "UnitPrice": "39.00",
                                    "UnitsInStock": "0",
                                    "UnitsOnOrder": "0",
                                    "ReorderLevel": "0",
                                    "Discontinued": "1"
                                },
                                {
                                    "ProductID": "18",
                                    "ProductName": "Carnarvon Tigers",
                                    "SupplierID": "7",
                                    "CategoryID": "8",
                                    "QuantityPerUnit": "16 kg pkg.",
                                    "UnitPrice": "62.50",
                                    "UnitsInStock": "42",
                                    "UnitsOnOrder": "0",
                                    "ReorderLevel": "0",
                                    "Discontinued": "0"
                                },
                                {
                                    "ProductID": "19",
                                    "ProductName": "Teatime Chocolate Biscuits",
                                    "SupplierID": "8",
                                    "CategoryID": "3",
                                    "QuantityPerUnit": "10 boxes x 12 pieces",
                                    "UnitPrice": "9.20",
                                    "UnitsInStock": "25",
                                    "UnitsOnOrder": "0",
                                    "ReorderLevel": "5",
                                    "Discontinued": "0"
                                },
                                {
                                    "ProductID": "20",
                                    "ProductName": "Sir Rodney's Marmalade",
                                    "SupplierID": "8",
                                    "CategoryID": "3",
                                    "QuantityPerUnit": "30 gift boxes",
                                    "UnitPrice": "81.00",
                                    "UnitsInStock": "40",
                                    "UnitsOnOrder": "0",
                                    "ReorderLevel": "0",
                                    "Discontinued": "0"
                                },
                                {
                                    "ProductID": "21",
                                    "ProductName": "Sir Rodney's Scones",
                                    "SupplierID": "8",
                                    "CategoryID": "3",
                                    "QuantityPerUnit": "24 pkgs. x 4 pieces",
                                    "UnitPrice": "10.00",
                                    "UnitsInStock": "3",
                                    "UnitsOnOrder": "40",
                                    "ReorderLevel": "5",
                                    "Discontinued": "0"
                                },
                                {
                                    "ProductID": "22",
                                    "ProductName": "Gustaf's Knäckebröd",
                                    "SupplierID": "9",
                                    "CategoryID": "5",
                                    "QuantityPerUnit": "24 - 500 g pkgs.",
                                    "UnitPrice": "21.00",
                                    "UnitsInStock": "104",
                                    "UnitsOnOrder": "0",
                                    "ReorderLevel": "25",
                                    "Discontinued": "0"
                                },
                                {
                                    "ProductID": "23",
                                    "ProductName": "Tunnbröd",
                                    "SupplierID": "9",
                                    "CategoryID": "5",
                                    "QuantityPerUnit": "12 - 250 g pkgs.",
                                    "UnitPrice": "9.00",
                                    "UnitsInStock": "61",
                                    "UnitsOnOrder": "0",
                                    "ReorderLevel": "25",
                                    "Discontinued": "0"
                                },
                                {
                                    "ProductID": "24",
                                    "ProductName": "Guaraná Fantástica",
                                    "SupplierID": "10",
                                    "CategoryID": "1",
                                    "QuantityPerUnit": "12 - 355 ml cans",
                                    "UnitPrice": "4.50",
                                    "UnitsInStock": "20",
                                    "UnitsOnOrder": "0",
                                    "ReorderLevel": "0",
                                    "Discontinued": "1"
                                },
                                {
                                    "ProductID": "25",
                                    "ProductName": "NuNuCa Nuß-Nougat-Creme",
                                    "SupplierID": "11",
                                    "CategoryID": "3",
                                    "QuantityPerUnit": "20 - 450 g glasses",
                                    "UnitPrice": "14.00",
                                    "UnitsInStock": "76",
                                    "UnitsOnOrder": "0",
                                    "ReorderLevel": "30",
                                    "Discontinued": "0"
                                },
                                {
                                    "ProductID": "26",
                                    "ProductName": "Gumbär Gummibärchen",
                                    "SupplierID": "11",
                                    "CategoryID": "3",
                                    "QuantityPerUnit": "100 - 250 g bags",
                                    "UnitPrice": "31.23",
                                    "UnitsInStock": "15",
                                    "UnitsOnOrder": "0",
                                    "ReorderLevel": "0",
                                    "Discontinued": "0"
                                },
                                {
                                    "ProductID": "27",
                                    "ProductName": "Schoggi Schokolade",
                                    "SupplierID": "11",
                                    "CategoryID": "3",
                                    "QuantityPerUnit": "100 - 100 g pieces",
                                    "UnitPrice": "43.90",
                                    "UnitsInStock": "49",
                                    "UnitsOnOrder": "0",
                                    "ReorderLevel": "30",
                                    "Discontinued": "0"
                                },
                                {
                                    "ProductID": "28",
                                    "ProductName": "Rössle Sauerkraut",
                                    "SupplierID": "12",
                                    "CategoryID": "7",
                                    "QuantityPerUnit": "25 - 825 g cans",
                                    "UnitPrice": "45.60",
                                    "UnitsInStock": "26",
                                    "UnitsOnOrder": "0",
                                    "ReorderLevel": "0",
                                    "Discontinued": "1"
                                },
                                {
                                    "ProductID": "29",
                                    "ProductName": "Thüringer Rostbratwurst",
                                    "SupplierID": "12",
                                    "CategoryID": "6",
                                    "QuantityPerUnit": "50 bags x 30 sausgs.",
                                    "UnitPrice": "123.79",
                                    "UnitsInStock": "0",
                                    "UnitsOnOrder": "0",
                                    "ReorderLevel": "0",
                                    "Discontinued": "1"
                                },
                                {
                                    "ProductID": "30",
                                    "ProductName": "Nord-Ost Matjeshering",
                                    "SupplierID": "13",
                                    "CategoryID": "8",
                                    "QuantityPerUnit": "10 - 200 g glasses",
                                    "UnitPrice": "25.89",
                                    "UnitsInStock": "10",
                                    "UnitsOnOrder": "0",
                                    "ReorderLevel": "15",
                                    "Discontinued": "0"
                                },
                                {
                                    "ProductID": "31",
                                    "ProductName": "Gorgonzola Telino",
                                    "SupplierID": "14",
                                    "CategoryID": "4",
                                    "QuantityPerUnit": "12 - 100 g pkgs",
                                    "UnitPrice": "12.50",
                                    "UnitsInStock": "0",
                                    "UnitsOnOrder": "70",
                                    "ReorderLevel": "20",
                                    "Discontinued": "0"
                                },
                                {
                                    "ProductID": "32",
                                    "ProductName": "Mascarpone Fabioli",
                                    "SupplierID": "14",
                                    "CategoryID": "4",
                                    "QuantityPerUnit": "24 - 200 g pkgs.",
                                    "UnitPrice": "32.00",
                                    "UnitsInStock": "9",
                                    "UnitsOnOrder": "40",
                                    "ReorderLevel": "25",
                                    "Discontinued": "0"
                                },
                                {
                                    "ProductID": "33",
                                    "ProductName": "Geitost",
                                    "SupplierID": "15",
                                    "CategoryID": "4",
                                    "QuantityPerUnit": "500 g",
                                    "UnitPrice": "2.50",
                                    "UnitsInStock": "112",
                                    "UnitsOnOrder": "0",
                                    "ReorderLevel": "20",
                                    "Discontinued": "0"
                                },
                                {
                                    "ProductID": "34",
                                    "ProductName": "Sasquatch Ale",
                                    "SupplierID": "16",
                                    "CategoryID": "1",
                                    "QuantityPerUnit": "24 - 12 oz bottles",
                                    "UnitPrice": "14.00",
                                    "UnitsInStock": "111",
                                    "UnitsOnOrder": "0",
                                    "ReorderLevel": "15",
                                    "Discontinued": "0"
                                },
                                {
                                    "ProductID": "35",
                                    "ProductName": "Steeleye Stout",
                                    "SupplierID": "16",
                                    "CategoryID": "1",
                                    "QuantityPerUnit": "24 - 12 oz bottles",
                                    "UnitPrice": "18.00",
                                    "UnitsInStock": "20",
                                    "UnitsOnOrder": "0",
                                    "ReorderLevel": "15",
                                    "Discontinued": "0"
                                },
                                {
                                    "ProductID": "36",
                                    "ProductName": "Inlagd Sill",
                                    "SupplierID": "17",
                                    "CategoryID": "8",
                                    "QuantityPerUnit": "24 - 250 g  jars",
                                    "UnitPrice": "19.00",
                                    "UnitsInStock": "112",
                                    "UnitsOnOrder": "0",
                                    "ReorderLevel": "20",
                                    "Discontinued": "0"
                                },
                                {
                                    "ProductID": "37",
                                    "ProductName": "Gravad lax",
                                    "SupplierID": "17",
                                    "CategoryID": "8",
                                    "QuantityPerUnit": "12 - 500 g pkgs.",
                                    "UnitPrice": "26.00",
                                    "UnitsInStock": "11",
                                    "UnitsOnOrder": "50",
                                    "ReorderLevel": "25",
                                    "Discontinued": "0"
                                },
                                {
                                    "ProductID": "38",
                                    "ProductName": "Côte de Blaye",
                                    "SupplierID": "18",
                                    "CategoryID": "1",
                                    "QuantityPerUnit": "12 - 75 cl bottles",
                                    "UnitPrice": "263.50",
                                    "UnitsInStock": "17",
                                    "UnitsOnOrder": "0",
                                    "ReorderLevel": "15",
                                    "Discontinued": "0"
                                },
                                {
                                    "ProductID": "39",
                                    "ProductName": "Chartreuse verte",
                                    "SupplierID": "18",
                                    "CategoryID": "1",
                                    "QuantityPerUnit": "750 cc per bottle",
                                    "UnitPrice": "18.00",
                                    "UnitsInStock": "69",
                                    "UnitsOnOrder": "0",
                                    "ReorderLevel": "5",
                                    "Discontinued": "0"
                                },
                                {
                                    "ProductID": "40",
                                    "ProductName": "Boston Crab Meat",
                                    "SupplierID": "19",
                                    "CategoryID": "8",
                                    "QuantityPerUnit": "24 - 4 oz tins",
                                    "UnitPrice": "18.40",
                                    "UnitsInStock": "123",
                                    "UnitsOnOrder": "0",
                                    "ReorderLevel": "30",
                                    "Discontinued": "0"
                                },
                                {
                                    "ProductID": "41",
                                    "ProductName": "Jack's New England Clam Chowder",
                                    "SupplierID": "19",
                                    "CategoryID": "8",
                                    "QuantityPerUnit": "12 - 12 oz cans",
                                    "UnitPrice": "9.65",
                                    "UnitsInStock": "85",
                                    "UnitsOnOrder": "0",
                                    "ReorderLevel": "10",
                                    "Discontinued": "0"
                                },
                                {
                                    "ProductID": "42",
                                    "ProductName": "Singaporean Hokkien Fried Mee",
                                    "SupplierID": "20",
                                    "CategoryID": "5",
                                    "QuantityPerUnit": "32 - 1 kg pkgs.",
                                    "UnitPrice": "14.00",
                                    "UnitsInStock": "26",
                                    "UnitsOnOrder": "0",
                                    "ReorderLevel": "0",
                                    "Discontinued": "1"
                                },
                                {
                                    "ProductID": "43",
                                    "ProductName": "Ipoh Coffee",
                                    "SupplierID": "20",
                                    "CategoryID": "1",
                                    "QuantityPerUnit": "16 - 500 g tins",
                                    "UnitPrice": "46.00",
                                    "UnitsInStock": "17",
                                    "UnitsOnOrder": "10",
                                    "ReorderLevel": "25",
                                    "Discontinued": "0"
                                },
                                {
                                    "ProductID": "44",
                                    "ProductName": "Gula Malacca",
                                    "SupplierID": "20",
                                    "CategoryID": "2",
                                    "QuantityPerUnit": "20 - 2 kg bags",
                                    "UnitPrice": "19.45",
                                    "UnitsInStock": "27",
                                    "UnitsOnOrder": "0",
                                    "ReorderLevel": "15",
                                    "Discontinued": "0"
                                },
                                {
                                    "ProductID": "45",
                                    "ProductName": "Rogede sild",
                                    "SupplierID": "21",
                                    "CategoryID": "8",
                                    "QuantityPerUnit": "1k pkg.",
                                    "UnitPrice": "9.50",
                                    "UnitsInStock": "5",
                                    "UnitsOnOrder": "70",
                                    "ReorderLevel": "15",
                                    "Discontinued": "0"
                                },
                                {
                                    "ProductID": "46",
                                    "ProductName": "Spegesild",
                                    "SupplierID": "21",
                                    "CategoryID": "8",
                                    "QuantityPerUnit": "4 - 450 g glasses",
                                    "UnitPrice": "12.00",
                                    "UnitsInStock": "95",
                                    "UnitsOnOrder": "0",
                                    "ReorderLevel": "0",
                                    "Discontinued": "0"
                                },
                                {
                                    "ProductID": "47",
                                    "ProductName": "Zaanse koeken",
                                    "SupplierID": "22",
                                    "CategoryID": "3",
                                    "QuantityPerUnit": "10 - 4 oz boxes",
                                    "UnitPrice": "9.50",
                                    "UnitsInStock": "36",
                                    "UnitsOnOrder": "0",
                                    "ReorderLevel": "0",
                                    "Discontinued": "0"
                                },
                                {
                                    "ProductID": "48",
                                    "ProductName": "Chocolade",
                                    "SupplierID": "22",
                                    "CategoryID": "3",
                                    "QuantityPerUnit": "10 pkgs.",
                                    "UnitPrice": "12.75",
                                    "UnitsInStock": "15",
                                    "UnitsOnOrder": "70",
                                    "ReorderLevel": "25",
                                    "Discontinued": "0"
                                },
                                {
                                    "ProductID": "49",
                                    "ProductName": "Maxilaku",
                                    "SupplierID": "23",
                                    "CategoryID": "3",
                                    "QuantityPerUnit": "24 - 50 g pkgs.",
                                    "UnitPrice": "20.00",
                                    "UnitsInStock": "10",
                                    "UnitsOnOrder": "60",
                                    "ReorderLevel": "15",
                                    "Discontinued": "0"
                                },
                                {
                                    "ProductID": "50",
                                    "ProductName": "Valkoinen suklaa",
                                    "SupplierID": "23",
                                    "CategoryID": "3",
                                    "QuantityPerUnit": "12 - 100 g bars",
                                    "UnitPrice": "16.25",
                                    "UnitsInStock": "65",
                                    "UnitsOnOrder": "0",
                                    "ReorderLevel": "30",
                                    "Discontinued": "0"
                                },
                                {
                                    "ProductID": "51",
                                    "ProductName": "Manjimup Dried Apples",
                                    "SupplierID": "24",
                                    "CategoryID": "7",
                                    "QuantityPerUnit": "50 - 300 g pkgs.",
                                    "UnitPrice": "53.00",
                                    "UnitsInStock": "20",
                                    "UnitsOnOrder": "0",
                                    "ReorderLevel": "10",
                                    "Discontinued": "0"
                                },
                                {
                                    "ProductID": "52",
                                    "ProductName": "Filo Mix",
                                    "SupplierID": "24",
                                    "CategoryID": "5",
                                    "QuantityPerUnit": "16 - 2 kg boxes",
                                    "UnitPrice": "7.00",
                                    "UnitsInStock": "38",
                                    "UnitsOnOrder": "0",
                                    "ReorderLevel": "25",
                                    "Discontinued": "0"
                                },
                                {
                                    "ProductID": "53",
                                    "ProductName": "Perth Pasties",
                                    "SupplierID": "24",
                                    "CategoryID": "6",
                                    "QuantityPerUnit": "48 pieces",
                                    "UnitPrice": "32.80",
                                    "UnitsInStock": "0",
                                    "UnitsOnOrder": "0",
                                    "ReorderLevel": "0",
                                    "Discontinued": "1"
                                },
                                {
                                    "ProductID": "54",
                                    "ProductName": "Tourtière",
                                    "SupplierID": "25",
                                    "CategoryID": "6",
                                    "QuantityPerUnit": "16 pies",
                                    "UnitPrice": "7.45",
                                    "UnitsInStock": "21",
                                    "UnitsOnOrder": "0",
                                    "ReorderLevel": "10",
                                    "Discontinued": "0"
                                },
                                {
                                    "ProductID": "55",
                                    "ProductName": "Pâté chinois",
                                    "SupplierID": "25",
                                    "CategoryID": "6",
                                    "QuantityPerUnit": "24 boxes x 2 pies",
                                    "UnitPrice": "24.00",
                                    "UnitsInStock": "115",
                                    "UnitsOnOrder": "0",
                                    "ReorderLevel": "20",
                                    "Discontinued": "0"
                                },
                                {
                                    "ProductID": "56",
                                    "ProductName": "Gnocchi di nonna Alice",
                                    "SupplierID": "26",
                                    "CategoryID": "5",
                                    "QuantityPerUnit": "24 - 250 g pkgs.",
                                    "UnitPrice": "38.00",
                                    "UnitsInStock": "21",
                                    "UnitsOnOrder": "10",
                                    "ReorderLevel": "30",
                                    "Discontinued": "0"
                                },
                                {
                                    "ProductID": "57",
                                    "ProductName": "Ravioli Angelo",
                                    "SupplierID": "26",
                                    "CategoryID": "5",
                                    "QuantityPerUnit": "24 - 250 g pkgs.",
                                    "UnitPrice": "19.50",
                                    "UnitsInStock": "36",
                                    "UnitsOnOrder": "0",
                                    "ReorderLevel": "20",
                                    "Discontinued": "0"
                                },
                                {
                                    "ProductID": "58",
                                    "ProductName": "Escargots de Bourgogne",
                                    "SupplierID": "27",
                                    "CategoryID": "8",
                                    "QuantityPerUnit": "24 pieces",
                                    "UnitPrice": "13.25",
                                    "UnitsInStock": "62",
                                    "UnitsOnOrder": "0",
                                    "ReorderLevel": "20",
                                    "Discontinued": "0"
                                },
                                {
                                    "ProductID": "59",
                                    "ProductName": "Raclette Courdavault",
                                    "SupplierID": "28",
                                    "CategoryID": "4",
                                    "QuantityPerUnit": "5 kg pkg.",
                                    "UnitPrice": "55.00",
                                    "UnitsInStock": "79",
                                    "UnitsOnOrder": "0",
                                    "ReorderLevel": "0",
                                    "Discontinued": "0"
                                },
                                {
                                    "ProductID": "60",
                                    "ProductName": "Camembert Pierrot",
                                    "SupplierID": "28",
                                    "CategoryID": "4",
                                    "QuantityPerUnit": "15 - 300 g rounds",
                                    "UnitPrice": "34.00",
                                    "UnitsInStock": "19",
                                    "UnitsOnOrder": "0",
                                    "ReorderLevel": "0",
                                    "Discontinued": "0"
                                },
                                {
                                    "ProductID": "61",
                                    "ProductName": "Sirop d'érable",
                                    "SupplierID": "29",
                                    "CategoryID": "2",
                                    "QuantityPerUnit": "24 - 500 ml bottles",
                                    "UnitPrice": "28.50",
                                    "UnitsInStock": "113",
                                    "UnitsOnOrder": "0",
                                    "ReorderLevel": "25",
                                    "Discontinued": "0"
                                },
                                {
                                    "ProductID": "62",
                                    "ProductName": "Tarte au sucre",
                                    "SupplierID": "29",
                                    "CategoryID": "3",
                                    "QuantityPerUnit": "48 pies",
                                    "UnitPrice": "49.30",
                                    "UnitsInStock": "17",
                                    "UnitsOnOrder": "0",
                                    "ReorderLevel": "0",
                                    "Discontinued": "0"
                                },
                                {
                                    "ProductID": "63",
                                    "ProductName": "Vegie-spread",
                                    "SupplierID": "7",
                                    "CategoryID": "2",
                                    "QuantityPerUnit": "15 - 625 g jars",
                                    "UnitPrice": "43.90",
                                    "UnitsInStock": "24",
                                    "UnitsOnOrder": "0",
                                    "ReorderLevel": "5",
                                    "Discontinued": "0"
                                },
                                {
                                    "ProductID": "64",
                                    "ProductName": "Wimmers gute Semmelknödel",
                                    "SupplierID": "12",
                                    "CategoryID": "5",
                                    "QuantityPerUnit": "20 bags x 4 pieces",
                                    "UnitPrice": "33.25",
                                    "UnitsInStock": "22",
                                    "UnitsOnOrder": "80",
                                    "ReorderLevel": "30",
                                    "Discontinued": "0"
                                },
                                {
                                    "ProductID": "65",
                                    "ProductName": "Louisiana Fiery Hot Pepper Sauce",
                                    "SupplierID": "2",
                                    "CategoryID": "2",
                                    "QuantityPerUnit": "32 - 8 oz bottles",
                                    "UnitPrice": "21.05",
                                    "UnitsInStock": "76",
                                    "UnitsOnOrder": "0",
                                    "ReorderLevel": "0",
                                    "Discontinued": "0"
                                },
                                {
                                    "ProductID": "66",
                                    "ProductName": "Louisiana Hot Spiced Okra",
                                    "SupplierID": "2",
                                    "CategoryID": "2",
                                    "QuantityPerUnit": "24 - 8 oz jars",
                                    "UnitPrice": "17.00",
                                    "UnitsInStock": "4",
                                    "UnitsOnOrder": "100",
                                    "ReorderLevel": "20",
                                    "Discontinued": "0"
                                },
                                {
                                    "ProductID": "67",
                                    "ProductName": "Laughing Lumberjack Lager",
                                    "SupplierID": "16",
                                    "CategoryID": "1",
                                    "QuantityPerUnit": "24 - 12 oz bottles",
                                    "UnitPrice": "14.00",
                                    "UnitsInStock": "52",
                                    "UnitsOnOrder": "0",
                                    "ReorderLevel": "10",
                                    "Discontinued": "0"
                                },
                                {
                                    "ProductID": "68",
                                    "ProductName": "Scottish Longbreads",
                                    "SupplierID": "8",
                                    "CategoryID": "3",
                                    "QuantityPerUnit": "10 boxes x 8 pieces",
                                    "UnitPrice": "12.50",
                                    "UnitsInStock": "6",
                                    "UnitsOnOrder": "10",
                                    "ReorderLevel": "15",
                                    "Discontinued": "0"
                                },
                                {
                                    "ProductID": "69",
                                    "ProductName": "Gudbrandsdalsost",
                                    "SupplierID": "15",
                                    "CategoryID": "4",
                                    "QuantityPerUnit": "10 kg pkg.",
                                    "UnitPrice": "36.00",
                                    "UnitsInStock": "26",
                                    "UnitsOnOrder": "0",
                                    "ReorderLevel": "15",
                                    "Discontinued": "0"
                                },
                                {
                                    "ProductID": "70",
                                    "ProductName": "Outback Lager",
                                    "SupplierID": "7",
                                    "CategoryID": "1",
                                    "QuantityPerUnit": "24 - 355 ml bottles",
                                    "UnitPrice": "15.00",
                                    "UnitsInStock": "15",
                                    "UnitsOnOrder": "10",
                                    "ReorderLevel": "30",
                                    "Discontinued": "0"
                                },
                                {
                                    "ProductID": "71",
                                    "ProductName": "Flotemysost",
                                    "SupplierID": "15",
                                    "CategoryID": "4",
                                    "QuantityPerUnit": "10 - 500 g pkgs.",
                                    "UnitPrice": "21.50",
                                    "UnitsInStock": "26",
                                    "UnitsOnOrder": "0",
                                    "ReorderLevel": "0",
                                    "Discontinued": "0"
                                },
                                {
                                    "ProductID": "72",
                                    "ProductName": "Mozzarella di Giovanni",
                                    "SupplierID": "14",
                                    "CategoryID": "4",
                                    "QuantityPerUnit": "24 - 200 g pkgs.",
                                    "UnitPrice": "34.80",
                                    "UnitsInStock": "14",
                                    "UnitsOnOrder": "0",
                                    "ReorderLevel": "0",
                                    "Discontinued": "0"
                                },
                                {
                                    "ProductID": "73",
                                    "ProductName": "Röd Kaviar",
                                    "SupplierID": "17",
                                    "CategoryID": "8",
                                    "QuantityPerUnit": "24 - 150 g jars",
                                    "UnitPrice": "15.00",
                                    "UnitsInStock": "101",
                                    "UnitsOnOrder": "0",
                                    "ReorderLevel": "5",
                                    "Discontinued": "0"
                                },
                                {
                                    "ProductID": "74",
                                    "ProductName": "Longlife Tofu",
                                    "SupplierID": "4",
                                    "CategoryID": "7",
                                    "QuantityPerUnit": "5 kg pkg.",
                                    "UnitPrice": "10.00",
                                    "UnitsInStock": "4",
                                    "UnitsOnOrder": "20",
                                    "ReorderLevel": "5",
                                    "Discontinued": "0"
                                },
                                {
                                    "ProductID": "75",
                                    "ProductName": "Rhönbräu Klosterbier",
                                    "SupplierID": "12",
                                    "CategoryID": "1",
                                    "QuantityPerUnit": "24 - 0.5 l bottles",
                                    "UnitPrice": "7.75",
                                    "UnitsInStock": "125",
                                    "UnitsOnOrder": "0",
                                    "ReorderLevel": "25",
                                    "Discontinued": "0"
                                },
                                {
                                    "ProductID": "76",
                                    "ProductName": "Lakkalikööri",
                                    "SupplierID": "23",
                                    "CategoryID": "1",
                                    "QuantityPerUnit": "500 ml",
                                    "UnitPrice": "18.00",
                                    "UnitsInStock": "57",
                                    "UnitsOnOrder": "0",
                                    "ReorderLevel": "20",
                                    "Discontinued": "0"
                                },
                                {
                                    "ProductID": "77",
                                    "ProductName": "Original Frankfurter grüne Soße",
                                    "SupplierID": "12",
                                    "CategoryID": "2",
                                    "QuantityPerUnit": "12 boxes",
                                    "UnitPrice": "13.00",
                                    "UnitsInStock": "32",
                                    "UnitsOnOrder": "0",
                                    "ReorderLevel": "15",
                                    "Discontinued": "0"
                                }
                            ]
                        },
                        "text/html": "<table><tr><th>ProductID</th><th>ProductName</th><th>SupplierID</th><th>CategoryID</th><th>QuantityPerUnit</th><th>UnitPrice</th><th>UnitsInStock</th><th>UnitsOnOrder</th><th>ReorderLevel</th><th>Discontinued</th></tr><tr><td>1</td><td>Chai</td><td>1</td><td>1</td><td>10 boxes x 20 bags</td><td>18.00</td><td>39</td><td>0</td><td>10</td><td>0</td></tr><tr><td>2</td><td>Chang</td><td>1</td><td>1</td><td>24 - 12 oz bottles</td><td>19.00</td><td>17</td><td>40</td><td>25</td><td>0</td></tr><tr><td>3</td><td>Aniseed Syrup</td><td>1</td><td>2</td><td>12 - 550 ml bottles</td><td>10.00</td><td>13</td><td>70</td><td>25</td><td>0</td></tr><tr><td>4</td><td>Chef Anton&#39;s Cajun Seasoning</td><td>2</td><td>2</td><td>48 - 6 oz jars</td><td>22.00</td><td>53</td><td>0</td><td>0</td><td>0</td></tr><tr><td>5</td><td>Chef Anton&#39;s Gumbo Mix</td><td>2</td><td>2</td><td>36 boxes</td><td>21.35</td><td>0</td><td>0</td><td>0</td><td>1</td></tr><tr><td>6</td><td>Grandma&#39;s Boysenberry Spread</td><td>3</td><td>2</td><td>12 - 8 oz jars</td><td>25.00</td><td>120</td><td>0</td><td>25</td><td>0</td></tr><tr><td>7</td><td>Uncle Bob&#39;s Organic Dried Pears</td><td>3</td><td>7</td><td>12 - 1 lb pkgs.</td><td>30.00</td><td>15</td><td>0</td><td>10</td><td>0</td></tr><tr><td>8</td><td>Northwoods Cranberry Sauce</td><td>3</td><td>2</td><td>12 - 12 oz jars</td><td>40.00</td><td>6</td><td>0</td><td>0</td><td>0</td></tr><tr><td>9</td><td>Mishi Kobe Niku</td><td>4</td><td>6</td><td>18 - 500 g pkgs.</td><td>97.00</td><td>29</td><td>0</td><td>0</td><td>1</td></tr><tr><td>10</td><td>Ikura</td><td>4</td><td>8</td><td>12 - 200 ml jars</td><td>31.00</td><td>31</td><td>0</td><td>0</td><td>0</td></tr><tr><td>11</td><td>Queso Cabrales</td><td>5</td><td>4</td><td>1 kg pkg.</td><td>21.00</td><td>22</td><td>30</td><td>30</td><td>0</td></tr><tr><td>12</td><td>Queso Manchego La Pastora</td><td>5</td><td>4</td><td>10 - 500 g pkgs.</td><td>38.00</td><td>86</td><td>0</td><td>0</td><td>0</td></tr><tr><td>13</td><td>Konbu</td><td>6</td><td>8</td><td>2 kg box</td><td>6.00</td><td>24</td><td>0</td><td>5</td><td>0</td></tr><tr><td>14</td><td>Tofu</td><td>6</td><td>7</td><td>40 - 100 g pkgs.</td><td>23.25</td><td>35</td><td>0</td><td>0</td><td>0</td></tr><tr><td>15</td><td>Genen Shouyu</td><td>6</td><td>2</td><td>24 - 250 ml bottles</td><td>15.50</td><td>39</td><td>0</td><td>5</td><td>0</td></tr><tr><td>16</td><td>Pavlova</td><td>7</td><td>3</td><td>32 - 500 g boxes</td><td>17.45</td><td>29</td><td>0</td><td>10</td><td>0</td></tr><tr><td>17</td><td>Alice Mutton</td><td>7</td><td>6</td><td>20 - 1 kg tins</td><td>39.00</td><td>0</td><td>0</td><td>0</td><td>1</td></tr><tr><td>18</td><td>Carnarvon Tigers</td><td>7</td><td>8</td><td>16 kg pkg.</td><td>62.50</td><td>42</td><td>0</td><td>0</td><td>0</td></tr><tr><td>19</td><td>Teatime Chocolate Biscuits</td><td>8</td><td>3</td><td>10 boxes x 12 pieces</td><td>9.20</td><td>25</td><td>0</td><td>5</td><td>0</td></tr><tr><td>20</td><td>Sir Rodney&#39;s Marmalade</td><td>8</td><td>3</td><td>30 gift boxes</td><td>81.00</td><td>40</td><td>0</td><td>0</td><td>0</td></tr><tr><td>21</td><td>Sir Rodney&#39;s Scones</td><td>8</td><td>3</td><td>24 pkgs. x 4 pieces</td><td>10.00</td><td>3</td><td>40</td><td>5</td><td>0</td></tr><tr><td>22</td><td>Gustaf&#39;s Knäckebröd</td><td>9</td><td>5</td><td>24 - 500 g pkgs.</td><td>21.00</td><td>104</td><td>0</td><td>25</td><td>0</td></tr><tr><td>23</td><td>Tunnbröd</td><td>9</td><td>5</td><td>12 - 250 g pkgs.</td><td>9.00</td><td>61</td><td>0</td><td>25</td><td>0</td></tr><tr><td>24</td><td>Guaraná Fantástica</td><td>10</td><td>1</td><td>12 - 355 ml cans</td><td>4.50</td><td>20</td><td>0</td><td>0</td><td>1</td></tr><tr><td>25</td><td>NuNuCa Nuß-Nougat-Creme</td><td>11</td><td>3</td><td>20 - 450 g glasses</td><td>14.00</td><td>76</td><td>0</td><td>30</td><td>0</td></tr><tr><td>26</td><td>Gumbär Gummibärchen</td><td>11</td><td>3</td><td>100 - 250 g bags</td><td>31.23</td><td>15</td><td>0</td><td>0</td><td>0</td></tr><tr><td>27</td><td>Schoggi Schokolade</td><td>11</td><td>3</td><td>100 - 100 g pieces</td><td>43.90</td><td>49</td><td>0</td><td>30</td><td>0</td></tr><tr><td>28</td><td>Rössle Sauerkraut</td><td>12</td><td>7</td><td>25 - 825 g cans</td><td>45.60</td><td>26</td><td>0</td><td>0</td><td>1</td></tr><tr><td>29</td><td>Thüringer Rostbratwurst</td><td>12</td><td>6</td><td>50 bags x 30 sausgs.</td><td>123.79</td><td>0</td><td>0</td><td>0</td><td>1</td></tr><tr><td>30</td><td>Nord-Ost Matjeshering</td><td>13</td><td>8</td><td>10 - 200 g glasses</td><td>25.89</td><td>10</td><td>0</td><td>15</td><td>0</td></tr><tr><td>31</td><td>Gorgonzola Telino</td><td>14</td><td>4</td><td>12 - 100 g pkgs</td><td>12.50</td><td>0</td><td>70</td><td>20</td><td>0</td></tr><tr><td>32</td><td>Mascarpone Fabioli</td><td>14</td><td>4</td><td>24 - 200 g pkgs.</td><td>32.00</td><td>9</td><td>40</td><td>25</td><td>0</td></tr><tr><td>33</td><td>Geitost</td><td>15</td><td>4</td><td>500 g</td><td>2.50</td><td>112</td><td>0</td><td>20</td><td>0</td></tr><tr><td>34</td><td>Sasquatch Ale</td><td>16</td><td>1</td><td>24 - 12 oz bottles</td><td>14.00</td><td>111</td><td>0</td><td>15</td><td>0</td></tr><tr><td>35</td><td>Steeleye Stout</td><td>16</td><td>1</td><td>24 - 12 oz bottles</td><td>18.00</td><td>20</td><td>0</td><td>15</td><td>0</td></tr><tr><td>36</td><td>Inlagd Sill</td><td>17</td><td>8</td><td>24 - 250 g  jars</td><td>19.00</td><td>112</td><td>0</td><td>20</td><td>0</td></tr><tr><td>37</td><td>Gravad lax</td><td>17</td><td>8</td><td>12 - 500 g pkgs.</td><td>26.00</td><td>11</td><td>50</td><td>25</td><td>0</td></tr><tr><td>38</td><td>Côte de Blaye</td><td>18</td><td>1</td><td>12 - 75 cl bottles</td><td>263.50</td><td>17</td><td>0</td><td>15</td><td>0</td></tr><tr><td>39</td><td>Chartreuse verte</td><td>18</td><td>1</td><td>750 cc per bottle</td><td>18.00</td><td>69</td><td>0</td><td>5</td><td>0</td></tr><tr><td>40</td><td>Boston Crab Meat</td><td>19</td><td>8</td><td>24 - 4 oz tins</td><td>18.40</td><td>123</td><td>0</td><td>30</td><td>0</td></tr><tr><td>41</td><td>Jack&#39;s New England Clam Chowder</td><td>19</td><td>8</td><td>12 - 12 oz cans</td><td>9.65</td><td>85</td><td>0</td><td>10</td><td>0</td></tr><tr><td>42</td><td>Singaporean Hokkien Fried Mee</td><td>20</td><td>5</td><td>32 - 1 kg pkgs.</td><td>14.00</td><td>26</td><td>0</td><td>0</td><td>1</td></tr><tr><td>43</td><td>Ipoh Coffee</td><td>20</td><td>1</td><td>16 - 500 g tins</td><td>46.00</td><td>17</td><td>10</td><td>25</td><td>0</td></tr><tr><td>44</td><td>Gula Malacca</td><td>20</td><td>2</td><td>20 - 2 kg bags</td><td>19.45</td><td>27</td><td>0</td><td>15</td><td>0</td></tr><tr><td>45</td><td>Rogede sild</td><td>21</td><td>8</td><td>1k pkg.</td><td>9.50</td><td>5</td><td>70</td><td>15</td><td>0</td></tr><tr><td>46</td><td>Spegesild</td><td>21</td><td>8</td><td>4 - 450 g glasses</td><td>12.00</td><td>95</td><td>0</td><td>0</td><td>0</td></tr><tr><td>47</td><td>Zaanse koeken</td><td>22</td><td>3</td><td>10 - 4 oz boxes</td><td>9.50</td><td>36</td><td>0</td><td>0</td><td>0</td></tr><tr><td>48</td><td>Chocolade</td><td>22</td><td>3</td><td>10 pkgs.</td><td>12.75</td><td>15</td><td>70</td><td>25</td><td>0</td></tr><tr><td>49</td><td>Maxilaku</td><td>23</td><td>3</td><td>24 - 50 g pkgs.</td><td>20.00</td><td>10</td><td>60</td><td>15</td><td>0</td></tr><tr><td>50</td><td>Valkoinen suklaa</td><td>23</td><td>3</td><td>12 - 100 g bars</td><td>16.25</td><td>65</td><td>0</td><td>30</td><td>0</td></tr><tr><td>51</td><td>Manjimup Dried Apples</td><td>24</td><td>7</td><td>50 - 300 g pkgs.</td><td>53.00</td><td>20</td><td>0</td><td>10</td><td>0</td></tr><tr><td>52</td><td>Filo Mix</td><td>24</td><td>5</td><td>16 - 2 kg boxes</td><td>7.00</td><td>38</td><td>0</td><td>25</td><td>0</td></tr><tr><td>53</td><td>Perth Pasties</td><td>24</td><td>6</td><td>48 pieces</td><td>32.80</td><td>0</td><td>0</td><td>0</td><td>1</td></tr><tr><td>54</td><td>Tourtière</td><td>25</td><td>6</td><td>16 pies</td><td>7.45</td><td>21</td><td>0</td><td>10</td><td>0</td></tr><tr><td>55</td><td>Pâté chinois</td><td>25</td><td>6</td><td>24 boxes x 2 pies</td><td>24.00</td><td>115</td><td>0</td><td>20</td><td>0</td></tr><tr><td>56</td><td>Gnocchi di nonna Alice</td><td>26</td><td>5</td><td>24 - 250 g pkgs.</td><td>38.00</td><td>21</td><td>10</td><td>30</td><td>0</td></tr><tr><td>57</td><td>Ravioli Angelo</td><td>26</td><td>5</td><td>24 - 250 g pkgs.</td><td>19.50</td><td>36</td><td>0</td><td>20</td><td>0</td></tr><tr><td>58</td><td>Escargots de Bourgogne</td><td>27</td><td>8</td><td>24 pieces</td><td>13.25</td><td>62</td><td>0</td><td>20</td><td>0</td></tr><tr><td>59</td><td>Raclette Courdavault</td><td>28</td><td>4</td><td>5 kg pkg.</td><td>55.00</td><td>79</td><td>0</td><td>0</td><td>0</td></tr><tr><td>60</td><td>Camembert Pierrot</td><td>28</td><td>4</td><td>15 - 300 g rounds</td><td>34.00</td><td>19</td><td>0</td><td>0</td><td>0</td></tr><tr><td>61</td><td>Sirop d&#39;érable</td><td>29</td><td>2</td><td>24 - 500 ml bottles</td><td>28.50</td><td>113</td><td>0</td><td>25</td><td>0</td></tr><tr><td>62</td><td>Tarte au sucre</td><td>29</td><td>3</td><td>48 pies</td><td>49.30</td><td>17</td><td>0</td><td>0</td><td>0</td></tr><tr><td>63</td><td>Vegie-spread</td><td>7</td><td>2</td><td>15 - 625 g jars</td><td>43.90</td><td>24</td><td>0</td><td>5</td><td>0</td></tr><tr><td>64</td><td>Wimmers gute Semmelknödel</td><td>12</td><td>5</td><td>20 bags x 4 pieces</td><td>33.25</td><td>22</td><td>80</td><td>30</td><td>0</td></tr><tr><td>65</td><td>Louisiana Fiery Hot Pepper Sauce</td><td>2</td><td>2</td><td>32 - 8 oz bottles</td><td>21.05</td><td>76</td><td>0</td><td>0</td><td>0</td></tr><tr><td>66</td><td>Louisiana Hot Spiced Okra</td><td>2</td><td>2</td><td>24 - 8 oz jars</td><td>17.00</td><td>4</td><td>100</td><td>20</td><td>0</td></tr><tr><td>67</td><td>Laughing Lumberjack Lager</td><td>16</td><td>1</td><td>24 - 12 oz bottles</td><td>14.00</td><td>52</td><td>0</td><td>10</td><td>0</td></tr><tr><td>68</td><td>Scottish Longbreads</td><td>8</td><td>3</td><td>10 boxes x 8 pieces</td><td>12.50</td><td>6</td><td>10</td><td>15</td><td>0</td></tr><tr><td>69</td><td>Gudbrandsdalsost</td><td>15</td><td>4</td><td>10 kg pkg.</td><td>36.00</td><td>26</td><td>0</td><td>15</td><td>0</td></tr><tr><td>70</td><td>Outback Lager</td><td>7</td><td>1</td><td>24 - 355 ml bottles</td><td>15.00</td><td>15</td><td>10</td><td>30</td><td>0</td></tr><tr><td>71</td><td>Flotemysost</td><td>15</td><td>4</td><td>10 - 500 g pkgs.</td><td>21.50</td><td>26</td><td>0</td><td>0</td><td>0</td></tr><tr><td>72</td><td>Mozzarella di Giovanni</td><td>14</td><td>4</td><td>24 - 200 g pkgs.</td><td>34.80</td><td>14</td><td>0</td><td>0</td><td>0</td></tr><tr><td>73</td><td>Röd Kaviar</td><td>17</td><td>8</td><td>24 - 150 g jars</td><td>15.00</td><td>101</td><td>0</td><td>5</td><td>0</td></tr><tr><td>74</td><td>Longlife Tofu</td><td>4</td><td>7</td><td>5 kg pkg.</td><td>10.00</td><td>4</td><td>20</td><td>5</td><td>0</td></tr><tr><td>75</td><td>Rhönbräu Klosterbier</td><td>12</td><td>1</td><td>24 - 0.5 l bottles</td><td>7.75</td><td>125</td><td>0</td><td>25</td><td>0</td></tr><tr><td>76</td><td>Lakkalikööri</td><td>23</td><td>1</td><td>500 ml</td><td>18.00</td><td>57</td><td>0</td><td>20</td><td>0</td></tr><tr><td>77</td><td>Original Frankfurter grüne Soße</td><td>12</td><td>2</td><td>12 boxes</td><td>13.00</td><td>32</td><td>0</td><td>15</td><td>0</td></tr></table>"
                    },
                    "metadata": {}
                }
            ],
            "execution_count": 3
        },
        {
            "cell_type": "code",
            "source": [
                "SELECT\r\n",
                "    *\r\n",
                "FROM\r\n",
                "    [Products]\r\n",
                "WHERE\r\n",
                "    [CategoryID] IN (4,2,1)"
            ],
            "metadata": {
                "language": "sql",
                "azdata_cell_guid": "331b3206-88a6-4919-8546-6cf628a94e33"
            },
            "outputs": [
                {
                    "output_type": "display_data",
                    "data": {
                        "text/html": "(34 rows affected)"
                    },
                    "metadata": {}
                },
                {
                    "output_type": "display_data",
                    "data": {
                        "text/html": "Total execution time: 00:00:00.033"
                    },
                    "metadata": {}
                },
                {
                    "output_type": "execute_result",
                    "execution_count": 4,
                    "data": {
                        "application/vnd.dataresource+json": {
                            "schema": {
                                "fields": [
                                    {
                                        "name": "ProductID"
                                    },
                                    {
                                        "name": "ProductName"
                                    },
                                    {
                                        "name": "SupplierID"
                                    },
                                    {
                                        "name": "CategoryID"
                                    },
                                    {
                                        "name": "QuantityPerUnit"
                                    },
                                    {
                                        "name": "UnitPrice"
                                    },
                                    {
                                        "name": "UnitsInStock"
                                    },
                                    {
                                        "name": "UnitsOnOrder"
                                    },
                                    {
                                        "name": "ReorderLevel"
                                    },
                                    {
                                        "name": "Discontinued"
                                    }
                                ]
                            },
                            "data": [
                                {
                                    "ProductID": "1",
                                    "ProductName": "Chai",
                                    "SupplierID": "1",
                                    "CategoryID": "1",
                                    "QuantityPerUnit": "10 boxes x 20 bags",
                                    "UnitPrice": "18.00",
                                    "UnitsInStock": "39",
                                    "UnitsOnOrder": "0",
                                    "ReorderLevel": "10",
                                    "Discontinued": "0"
                                },
                                {
                                    "ProductID": "2",
                                    "ProductName": "Chang",
                                    "SupplierID": "1",
                                    "CategoryID": "1",
                                    "QuantityPerUnit": "24 - 12 oz bottles",
                                    "UnitPrice": "19.00",
                                    "UnitsInStock": "17",
                                    "UnitsOnOrder": "40",
                                    "ReorderLevel": "25",
                                    "Discontinued": "0"
                                },
                                {
                                    "ProductID": "3",
                                    "ProductName": "Aniseed Syrup",
                                    "SupplierID": "1",
                                    "CategoryID": "2",
                                    "QuantityPerUnit": "12 - 550 ml bottles",
                                    "UnitPrice": "10.00",
                                    "UnitsInStock": "13",
                                    "UnitsOnOrder": "70",
                                    "ReorderLevel": "25",
                                    "Discontinued": "0"
                                },
                                {
                                    "ProductID": "4",
                                    "ProductName": "Chef Anton's Cajun Seasoning",
                                    "SupplierID": "2",
                                    "CategoryID": "2",
                                    "QuantityPerUnit": "48 - 6 oz jars",
                                    "UnitPrice": "22.00",
                                    "UnitsInStock": "53",
                                    "UnitsOnOrder": "0",
                                    "ReorderLevel": "0",
                                    "Discontinued": "0"
                                },
                                {
                                    "ProductID": "5",
                                    "ProductName": "Chef Anton's Gumbo Mix",
                                    "SupplierID": "2",
                                    "CategoryID": "2",
                                    "QuantityPerUnit": "36 boxes",
                                    "UnitPrice": "21.35",
                                    "UnitsInStock": "0",
                                    "UnitsOnOrder": "0",
                                    "ReorderLevel": "0",
                                    "Discontinued": "1"
                                },
                                {
                                    "ProductID": "6",
                                    "ProductName": "Grandma's Boysenberry Spread",
                                    "SupplierID": "3",
                                    "CategoryID": "2",
                                    "QuantityPerUnit": "12 - 8 oz jars",
                                    "UnitPrice": "25.00",
                                    "UnitsInStock": "120",
                                    "UnitsOnOrder": "0",
                                    "ReorderLevel": "25",
                                    "Discontinued": "0"
                                },
                                {
                                    "ProductID": "8",
                                    "ProductName": "Northwoods Cranberry Sauce",
                                    "SupplierID": "3",
                                    "CategoryID": "2",
                                    "QuantityPerUnit": "12 - 12 oz jars",
                                    "UnitPrice": "40.00",
                                    "UnitsInStock": "6",
                                    "UnitsOnOrder": "0",
                                    "ReorderLevel": "0",
                                    "Discontinued": "0"
                                },
                                {
                                    "ProductID": "11",
                                    "ProductName": "Queso Cabrales",
                                    "SupplierID": "5",
                                    "CategoryID": "4",
                                    "QuantityPerUnit": "1 kg pkg.",
                                    "UnitPrice": "21.00",
                                    "UnitsInStock": "22",
                                    "UnitsOnOrder": "30",
                                    "ReorderLevel": "30",
                                    "Discontinued": "0"
                                },
                                {
                                    "ProductID": "12",
                                    "ProductName": "Queso Manchego La Pastora",
                                    "SupplierID": "5",
                                    "CategoryID": "4",
                                    "QuantityPerUnit": "10 - 500 g pkgs.",
                                    "UnitPrice": "38.00",
                                    "UnitsInStock": "86",
                                    "UnitsOnOrder": "0",
                                    "ReorderLevel": "0",
                                    "Discontinued": "0"
                                },
                                {
                                    "ProductID": "15",
                                    "ProductName": "Genen Shouyu",
                                    "SupplierID": "6",
                                    "CategoryID": "2",
                                    "QuantityPerUnit": "24 - 250 ml bottles",
                                    "UnitPrice": "15.50",
                                    "UnitsInStock": "39",
                                    "UnitsOnOrder": "0",
                                    "ReorderLevel": "5",
                                    "Discontinued": "0"
                                },
                                {
                                    "ProductID": "24",
                                    "ProductName": "Guaraná Fantástica",
                                    "SupplierID": "10",
                                    "CategoryID": "1",
                                    "QuantityPerUnit": "12 - 355 ml cans",
                                    "UnitPrice": "4.50",
                                    "UnitsInStock": "20",
                                    "UnitsOnOrder": "0",
                                    "ReorderLevel": "0",
                                    "Discontinued": "1"
                                },
                                {
                                    "ProductID": "31",
                                    "ProductName": "Gorgonzola Telino",
                                    "SupplierID": "14",
                                    "CategoryID": "4",
                                    "QuantityPerUnit": "12 - 100 g pkgs",
                                    "UnitPrice": "12.50",
                                    "UnitsInStock": "0",
                                    "UnitsOnOrder": "70",
                                    "ReorderLevel": "20",
                                    "Discontinued": "0"
                                },
                                {
                                    "ProductID": "32",
                                    "ProductName": "Mascarpone Fabioli",
                                    "SupplierID": "14",
                                    "CategoryID": "4",
                                    "QuantityPerUnit": "24 - 200 g pkgs.",
                                    "UnitPrice": "32.00",
                                    "UnitsInStock": "9",
                                    "UnitsOnOrder": "40",
                                    "ReorderLevel": "25",
                                    "Discontinued": "0"
                                },
                                {
                                    "ProductID": "33",
                                    "ProductName": "Geitost",
                                    "SupplierID": "15",
                                    "CategoryID": "4",
                                    "QuantityPerUnit": "500 g",
                                    "UnitPrice": "2.50",
                                    "UnitsInStock": "112",
                                    "UnitsOnOrder": "0",
                                    "ReorderLevel": "20",
                                    "Discontinued": "0"
                                },
                                {
                                    "ProductID": "34",
                                    "ProductName": "Sasquatch Ale",
                                    "SupplierID": "16",
                                    "CategoryID": "1",
                                    "QuantityPerUnit": "24 - 12 oz bottles",
                                    "UnitPrice": "14.00",
                                    "UnitsInStock": "111",
                                    "UnitsOnOrder": "0",
                                    "ReorderLevel": "15",
                                    "Discontinued": "0"
                                },
                                {
                                    "ProductID": "35",
                                    "ProductName": "Steeleye Stout",
                                    "SupplierID": "16",
                                    "CategoryID": "1",
                                    "QuantityPerUnit": "24 - 12 oz bottles",
                                    "UnitPrice": "18.00",
                                    "UnitsInStock": "20",
                                    "UnitsOnOrder": "0",
                                    "ReorderLevel": "15",
                                    "Discontinued": "0"
                                },
                                {
                                    "ProductID": "38",
                                    "ProductName": "Côte de Blaye",
                                    "SupplierID": "18",
                                    "CategoryID": "1",
                                    "QuantityPerUnit": "12 - 75 cl bottles",
                                    "UnitPrice": "263.50",
                                    "UnitsInStock": "17",
                                    "UnitsOnOrder": "0",
                                    "ReorderLevel": "15",
                                    "Discontinued": "0"
                                },
                                {
                                    "ProductID": "39",
                                    "ProductName": "Chartreuse verte",
                                    "SupplierID": "18",
                                    "CategoryID": "1",
                                    "QuantityPerUnit": "750 cc per bottle",
                                    "UnitPrice": "18.00",
                                    "UnitsInStock": "69",
                                    "UnitsOnOrder": "0",
                                    "ReorderLevel": "5",
                                    "Discontinued": "0"
                                },
                                {
                                    "ProductID": "43",
                                    "ProductName": "Ipoh Coffee",
                                    "SupplierID": "20",
                                    "CategoryID": "1",
                                    "QuantityPerUnit": "16 - 500 g tins",
                                    "UnitPrice": "46.00",
                                    "UnitsInStock": "17",
                                    "UnitsOnOrder": "10",
                                    "ReorderLevel": "25",
                                    "Discontinued": "0"
                                },
                                {
                                    "ProductID": "44",
                                    "ProductName": "Gula Malacca",
                                    "SupplierID": "20",
                                    "CategoryID": "2",
                                    "QuantityPerUnit": "20 - 2 kg bags",
                                    "UnitPrice": "19.45",
                                    "UnitsInStock": "27",
                                    "UnitsOnOrder": "0",
                                    "ReorderLevel": "15",
                                    "Discontinued": "0"
                                },
                                {
                                    "ProductID": "59",
                                    "ProductName": "Raclette Courdavault",
                                    "SupplierID": "28",
                                    "CategoryID": "4",
                                    "QuantityPerUnit": "5 kg pkg.",
                                    "UnitPrice": "55.00",
                                    "UnitsInStock": "79",
                                    "UnitsOnOrder": "0",
                                    "ReorderLevel": "0",
                                    "Discontinued": "0"
                                },
                                {
                                    "ProductID": "60",
                                    "ProductName": "Camembert Pierrot",
                                    "SupplierID": "28",
                                    "CategoryID": "4",
                                    "QuantityPerUnit": "15 - 300 g rounds",
                                    "UnitPrice": "34.00",
                                    "UnitsInStock": "19",
                                    "UnitsOnOrder": "0",
                                    "ReorderLevel": "0",
                                    "Discontinued": "0"
                                },
                                {
                                    "ProductID": "61",
                                    "ProductName": "Sirop d'érable",
                                    "SupplierID": "29",
                                    "CategoryID": "2",
                                    "QuantityPerUnit": "24 - 500 ml bottles",
                                    "UnitPrice": "28.50",
                                    "UnitsInStock": "113",
                                    "UnitsOnOrder": "0",
                                    "ReorderLevel": "25",
                                    "Discontinued": "0"
                                },
                                {
                                    "ProductID": "63",
                                    "ProductName": "Vegie-spread",
                                    "SupplierID": "7",
                                    "CategoryID": "2",
                                    "QuantityPerUnit": "15 - 625 g jars",
                                    "UnitPrice": "43.90",
                                    "UnitsInStock": "24",
                                    "UnitsOnOrder": "0",
                                    "ReorderLevel": "5",
                                    "Discontinued": "0"
                                },
                                {
                                    "ProductID": "65",
                                    "ProductName": "Louisiana Fiery Hot Pepper Sauce",
                                    "SupplierID": "2",
                                    "CategoryID": "2",
                                    "QuantityPerUnit": "32 - 8 oz bottles",
                                    "UnitPrice": "21.05",
                                    "UnitsInStock": "76",
                                    "UnitsOnOrder": "0",
                                    "ReorderLevel": "0",
                                    "Discontinued": "0"
                                },
                                {
                                    "ProductID": "66",
                                    "ProductName": "Louisiana Hot Spiced Okra",
                                    "SupplierID": "2",
                                    "CategoryID": "2",
                                    "QuantityPerUnit": "24 - 8 oz jars",
                                    "UnitPrice": "17.00",
                                    "UnitsInStock": "4",
                                    "UnitsOnOrder": "100",
                                    "ReorderLevel": "20",
                                    "Discontinued": "0"
                                },
                                {
                                    "ProductID": "67",
                                    "ProductName": "Laughing Lumberjack Lager",
                                    "SupplierID": "16",
                                    "CategoryID": "1",
                                    "QuantityPerUnit": "24 - 12 oz bottles",
                                    "UnitPrice": "14.00",
                                    "UnitsInStock": "52",
                                    "UnitsOnOrder": "0",
                                    "ReorderLevel": "10",
                                    "Discontinued": "0"
                                },
                                {
                                    "ProductID": "69",
                                    "ProductName": "Gudbrandsdalsost",
                                    "SupplierID": "15",
                                    "CategoryID": "4",
                                    "QuantityPerUnit": "10 kg pkg.",
                                    "UnitPrice": "36.00",
                                    "UnitsInStock": "26",
                                    "UnitsOnOrder": "0",
                                    "ReorderLevel": "15",
                                    "Discontinued": "0"
                                },
                                {
                                    "ProductID": "70",
                                    "ProductName": "Outback Lager",
                                    "SupplierID": "7",
                                    "CategoryID": "1",
                                    "QuantityPerUnit": "24 - 355 ml bottles",
                                    "UnitPrice": "15.00",
                                    "UnitsInStock": "15",
                                    "UnitsOnOrder": "10",
                                    "ReorderLevel": "30",
                                    "Discontinued": "0"
                                },
                                {
                                    "ProductID": "71",
                                    "ProductName": "Flotemysost",
                                    "SupplierID": "15",
                                    "CategoryID": "4",
                                    "QuantityPerUnit": "10 - 500 g pkgs.",
                                    "UnitPrice": "21.50",
                                    "UnitsInStock": "26",
                                    "UnitsOnOrder": "0",
                                    "ReorderLevel": "0",
                                    "Discontinued": "0"
                                },
                                {
                                    "ProductID": "72",
                                    "ProductName": "Mozzarella di Giovanni",
                                    "SupplierID": "14",
                                    "CategoryID": "4",
                                    "QuantityPerUnit": "24 - 200 g pkgs.",
                                    "UnitPrice": "34.80",
                                    "UnitsInStock": "14",
                                    "UnitsOnOrder": "0",
                                    "ReorderLevel": "0",
                                    "Discontinued": "0"
                                },
                                {
                                    "ProductID": "75",
                                    "ProductName": "Rhönbräu Klosterbier",
                                    "SupplierID": "12",
                                    "CategoryID": "1",
                                    "QuantityPerUnit": "24 - 0.5 l bottles",
                                    "UnitPrice": "7.75",
                                    "UnitsInStock": "125",
                                    "UnitsOnOrder": "0",
                                    "ReorderLevel": "25",
                                    "Discontinued": "0"
                                },
                                {
                                    "ProductID": "76",
                                    "ProductName": "Lakkalikööri",
                                    "SupplierID": "23",
                                    "CategoryID": "1",
                                    "QuantityPerUnit": "500 ml",
                                    "UnitPrice": "18.00",
                                    "UnitsInStock": "57",
                                    "UnitsOnOrder": "0",
                                    "ReorderLevel": "20",
                                    "Discontinued": "0"
                                },
                                {
                                    "ProductID": "77",
                                    "ProductName": "Original Frankfurter grüne Soße",
                                    "SupplierID": "12",
                                    "CategoryID": "2",
                                    "QuantityPerUnit": "12 boxes",
                                    "UnitPrice": "13.00",
                                    "UnitsInStock": "32",
                                    "UnitsOnOrder": "0",
                                    "ReorderLevel": "15",
                                    "Discontinued": "0"
                                }
                            ]
                        },
                        "text/html": "<table><tr><th>ProductID</th><th>ProductName</th><th>SupplierID</th><th>CategoryID</th><th>QuantityPerUnit</th><th>UnitPrice</th><th>UnitsInStock</th><th>UnitsOnOrder</th><th>ReorderLevel</th><th>Discontinued</th></tr><tr><td>1</td><td>Chai</td><td>1</td><td>1</td><td>10 boxes x 20 bags</td><td>18.00</td><td>39</td><td>0</td><td>10</td><td>0</td></tr><tr><td>2</td><td>Chang</td><td>1</td><td>1</td><td>24 - 12 oz bottles</td><td>19.00</td><td>17</td><td>40</td><td>25</td><td>0</td></tr><tr><td>3</td><td>Aniseed Syrup</td><td>1</td><td>2</td><td>12 - 550 ml bottles</td><td>10.00</td><td>13</td><td>70</td><td>25</td><td>0</td></tr><tr><td>4</td><td>Chef Anton&#39;s Cajun Seasoning</td><td>2</td><td>2</td><td>48 - 6 oz jars</td><td>22.00</td><td>53</td><td>0</td><td>0</td><td>0</td></tr><tr><td>5</td><td>Chef Anton&#39;s Gumbo Mix</td><td>2</td><td>2</td><td>36 boxes</td><td>21.35</td><td>0</td><td>0</td><td>0</td><td>1</td></tr><tr><td>6</td><td>Grandma&#39;s Boysenberry Spread</td><td>3</td><td>2</td><td>12 - 8 oz jars</td><td>25.00</td><td>120</td><td>0</td><td>25</td><td>0</td></tr><tr><td>8</td><td>Northwoods Cranberry Sauce</td><td>3</td><td>2</td><td>12 - 12 oz jars</td><td>40.00</td><td>6</td><td>0</td><td>0</td><td>0</td></tr><tr><td>11</td><td>Queso Cabrales</td><td>5</td><td>4</td><td>1 kg pkg.</td><td>21.00</td><td>22</td><td>30</td><td>30</td><td>0</td></tr><tr><td>12</td><td>Queso Manchego La Pastora</td><td>5</td><td>4</td><td>10 - 500 g pkgs.</td><td>38.00</td><td>86</td><td>0</td><td>0</td><td>0</td></tr><tr><td>15</td><td>Genen Shouyu</td><td>6</td><td>2</td><td>24 - 250 ml bottles</td><td>15.50</td><td>39</td><td>0</td><td>5</td><td>0</td></tr><tr><td>24</td><td>Guaraná Fantástica</td><td>10</td><td>1</td><td>12 - 355 ml cans</td><td>4.50</td><td>20</td><td>0</td><td>0</td><td>1</td></tr><tr><td>31</td><td>Gorgonzola Telino</td><td>14</td><td>4</td><td>12 - 100 g pkgs</td><td>12.50</td><td>0</td><td>70</td><td>20</td><td>0</td></tr><tr><td>32</td><td>Mascarpone Fabioli</td><td>14</td><td>4</td><td>24 - 200 g pkgs.</td><td>32.00</td><td>9</td><td>40</td><td>25</td><td>0</td></tr><tr><td>33</td><td>Geitost</td><td>15</td><td>4</td><td>500 g</td><td>2.50</td><td>112</td><td>0</td><td>20</td><td>0</td></tr><tr><td>34</td><td>Sasquatch Ale</td><td>16</td><td>1</td><td>24 - 12 oz bottles</td><td>14.00</td><td>111</td><td>0</td><td>15</td><td>0</td></tr><tr><td>35</td><td>Steeleye Stout</td><td>16</td><td>1</td><td>24 - 12 oz bottles</td><td>18.00</td><td>20</td><td>0</td><td>15</td><td>0</td></tr><tr><td>38</td><td>Côte de Blaye</td><td>18</td><td>1</td><td>12 - 75 cl bottles</td><td>263.50</td><td>17</td><td>0</td><td>15</td><td>0</td></tr><tr><td>39</td><td>Chartreuse verte</td><td>18</td><td>1</td><td>750 cc per bottle</td><td>18.00</td><td>69</td><td>0</td><td>5</td><td>0</td></tr><tr><td>43</td><td>Ipoh Coffee</td><td>20</td><td>1</td><td>16 - 500 g tins</td><td>46.00</td><td>17</td><td>10</td><td>25</td><td>0</td></tr><tr><td>44</td><td>Gula Malacca</td><td>20</td><td>2</td><td>20 - 2 kg bags</td><td>19.45</td><td>27</td><td>0</td><td>15</td><td>0</td></tr><tr><td>59</td><td>Raclette Courdavault</td><td>28</td><td>4</td><td>5 kg pkg.</td><td>55.00</td><td>79</td><td>0</td><td>0</td><td>0</td></tr><tr><td>60</td><td>Camembert Pierrot</td><td>28</td><td>4</td><td>15 - 300 g rounds</td><td>34.00</td><td>19</td><td>0</td><td>0</td><td>0</td></tr><tr><td>61</td><td>Sirop d&#39;érable</td><td>29</td><td>2</td><td>24 - 500 ml bottles</td><td>28.50</td><td>113</td><td>0</td><td>25</td><td>0</td></tr><tr><td>63</td><td>Vegie-spread</td><td>7</td><td>2</td><td>15 - 625 g jars</td><td>43.90</td><td>24</td><td>0</td><td>5</td><td>0</td></tr><tr><td>65</td><td>Louisiana Fiery Hot Pepper Sauce</td><td>2</td><td>2</td><td>32 - 8 oz bottles</td><td>21.05</td><td>76</td><td>0</td><td>0</td><td>0</td></tr><tr><td>66</td><td>Louisiana Hot Spiced Okra</td><td>2</td><td>2</td><td>24 - 8 oz jars</td><td>17.00</td><td>4</td><td>100</td><td>20</td><td>0</td></tr><tr><td>67</td><td>Laughing Lumberjack Lager</td><td>16</td><td>1</td><td>24 - 12 oz bottles</td><td>14.00</td><td>52</td><td>0</td><td>10</td><td>0</td></tr><tr><td>69</td><td>Gudbrandsdalsost</td><td>15</td><td>4</td><td>10 kg pkg.</td><td>36.00</td><td>26</td><td>0</td><td>15</td><td>0</td></tr><tr><td>70</td><td>Outback Lager</td><td>7</td><td>1</td><td>24 - 355 ml bottles</td><td>15.00</td><td>15</td><td>10</td><td>30</td><td>0</td></tr><tr><td>71</td><td>Flotemysost</td><td>15</td><td>4</td><td>10 - 500 g pkgs.</td><td>21.50</td><td>26</td><td>0</td><td>0</td><td>0</td></tr><tr><td>72</td><td>Mozzarella di Giovanni</td><td>14</td><td>4</td><td>24 - 200 g pkgs.</td><td>34.80</td><td>14</td><td>0</td><td>0</td><td>0</td></tr><tr><td>75</td><td>Rhönbräu Klosterbier</td><td>12</td><td>1</td><td>24 - 0.5 l bottles</td><td>7.75</td><td>125</td><td>0</td><td>25</td><td>0</td></tr><tr><td>76</td><td>Lakkalikööri</td><td>23</td><td>1</td><td>500 ml</td><td>18.00</td><td>57</td><td>0</td><td>20</td><td>0</td></tr><tr><td>77</td><td>Original Frankfurter grüne Soße</td><td>12</td><td>2</td><td>12 boxes</td><td>13.00</td><td>32</td><td>0</td><td>15</td><td>0</td></tr></table>"
                    },
                    "metadata": {}
                }
            ],
            "execution_count": 4
        },
        {
            "cell_type": "code",
            "source": [
                "SELECT\r\n",
                "    *\r\n",
                "FROM\r\n",
                "    [Products]\r\n",
                "WHERE\r\n",
                "    [ProductName] LIKE '%c%'"
            ],
            "metadata": {
                "language": "sql",
                "azdata_cell_guid": "9589ba5c-b8a9-478e-950f-8edb31aa3744"
            },
            "outputs": [
                {
                    "output_type": "display_data",
                    "data": {
                        "text/html": "(37 rows affected)"
                    },
                    "metadata": {}
                },
                {
                    "output_type": "display_data",
                    "data": {
                        "text/html": "Total execution time: 00:00:00.010"
                    },
                    "metadata": {}
                },
                {
                    "output_type": "execute_result",
                    "execution_count": 11,
                    "data": {
                        "application/vnd.dataresource+json": {
                            "schema": {
                                "fields": [
                                    {
                                        "name": "ProductID"
                                    },
                                    {
                                        "name": "ProductName"
                                    },
                                    {
                                        "name": "SupplierID"
                                    },
                                    {
                                        "name": "CategoryID"
                                    },
                                    {
                                        "name": "QuantityPerUnit"
                                    },
                                    {
                                        "name": "UnitPrice"
                                    },
                                    {
                                        "name": "UnitsInStock"
                                    },
                                    {
                                        "name": "UnitsOnOrder"
                                    },
                                    {
                                        "name": "ReorderLevel"
                                    },
                                    {
                                        "name": "Discontinued"
                                    }
                                ]
                            },
                            "data": [
                                {
                                    "ProductID": "1",
                                    "ProductName": "Chai",
                                    "SupplierID": "1",
                                    "CategoryID": "1",
                                    "QuantityPerUnit": "10 boxes x 20 bags",
                                    "UnitPrice": "18.00",
                                    "UnitsInStock": "39",
                                    "UnitsOnOrder": "0",
                                    "ReorderLevel": "10",
                                    "Discontinued": "0"
                                },
                                {
                                    "ProductID": "2",
                                    "ProductName": "Chang",
                                    "SupplierID": "1",
                                    "CategoryID": "1",
                                    "QuantityPerUnit": "24 - 12 oz bottles",
                                    "UnitPrice": "19.00",
                                    "UnitsInStock": "17",
                                    "UnitsOnOrder": "40",
                                    "ReorderLevel": "25",
                                    "Discontinued": "0"
                                },
                                {
                                    "ProductID": "4",
                                    "ProductName": "Chef Anton's Cajun Seasoning",
                                    "SupplierID": "2",
                                    "CategoryID": "2",
                                    "QuantityPerUnit": "48 - 6 oz jars",
                                    "UnitPrice": "22.00",
                                    "UnitsInStock": "53",
                                    "UnitsOnOrder": "0",
                                    "ReorderLevel": "0",
                                    "Discontinued": "0"
                                },
                                {
                                    "ProductID": "5",
                                    "ProductName": "Chef Anton's Gumbo Mix",
                                    "SupplierID": "2",
                                    "CategoryID": "2",
                                    "QuantityPerUnit": "36 boxes",
                                    "UnitPrice": "21.35",
                                    "UnitsInStock": "0",
                                    "UnitsOnOrder": "0",
                                    "ReorderLevel": "0",
                                    "Discontinued": "1"
                                },
                                {
                                    "ProductID": "7",
                                    "ProductName": "Uncle Bob's Organic Dried Pears",
                                    "SupplierID": "3",
                                    "CategoryID": "7",
                                    "QuantityPerUnit": "12 - 1 lb pkgs.",
                                    "UnitPrice": "30.00",
                                    "UnitsInStock": "15",
                                    "UnitsOnOrder": "0",
                                    "ReorderLevel": "10",
                                    "Discontinued": "0"
                                },
                                {
                                    "ProductID": "8",
                                    "ProductName": "Northwoods Cranberry Sauce",
                                    "SupplierID": "3",
                                    "CategoryID": "2",
                                    "QuantityPerUnit": "12 - 12 oz jars",
                                    "UnitPrice": "40.00",
                                    "UnitsInStock": "6",
                                    "UnitsOnOrder": "0",
                                    "ReorderLevel": "0",
                                    "Discontinued": "0"
                                },
                                {
                                    "ProductID": "11",
                                    "ProductName": "Queso Cabrales",
                                    "SupplierID": "5",
                                    "CategoryID": "4",
                                    "QuantityPerUnit": "1 kg pkg.",
                                    "UnitPrice": "21.00",
                                    "UnitsInStock": "22",
                                    "UnitsOnOrder": "30",
                                    "ReorderLevel": "30",
                                    "Discontinued": "0"
                                },
                                {
                                    "ProductID": "12",
                                    "ProductName": "Queso Manchego La Pastora",
                                    "SupplierID": "5",
                                    "CategoryID": "4",
                                    "QuantityPerUnit": "10 - 500 g pkgs.",
                                    "UnitPrice": "38.00",
                                    "UnitsInStock": "86",
                                    "UnitsOnOrder": "0",
                                    "ReorderLevel": "0",
                                    "Discontinued": "0"
                                },
                                {
                                    "ProductID": "17",
                                    "ProductName": "Alice Mutton",
                                    "SupplierID": "7",
                                    "CategoryID": "6",
                                    "QuantityPerUnit": "20 - 1 kg tins",
                                    "UnitPrice": "39.00",
                                    "UnitsInStock": "0",
                                    "UnitsOnOrder": "0",
                                    "ReorderLevel": "0",
                                    "Discontinued": "1"
                                },
                                {
                                    "ProductID": "18",
                                    "ProductName": "Carnarvon Tigers",
                                    "SupplierID": "7",
                                    "CategoryID": "8",
                                    "QuantityPerUnit": "16 kg pkg.",
                                    "UnitPrice": "62.50",
                                    "UnitsInStock": "42",
                                    "UnitsOnOrder": "0",
                                    "ReorderLevel": "0",
                                    "Discontinued": "0"
                                },
                                {
                                    "ProductID": "19",
                                    "ProductName": "Teatime Chocolate Biscuits",
                                    "SupplierID": "8",
                                    "CategoryID": "3",
                                    "QuantityPerUnit": "10 boxes x 12 pieces",
                                    "UnitPrice": "9.20",
                                    "UnitsInStock": "25",
                                    "UnitsOnOrder": "0",
                                    "ReorderLevel": "5",
                                    "Discontinued": "0"
                                },
                                {
                                    "ProductID": "21",
                                    "ProductName": "Sir Rodney's Scones",
                                    "SupplierID": "8",
                                    "CategoryID": "3",
                                    "QuantityPerUnit": "24 pkgs. x 4 pieces",
                                    "UnitPrice": "10.00",
                                    "UnitsInStock": "3",
                                    "UnitsOnOrder": "40",
                                    "ReorderLevel": "5",
                                    "Discontinued": "0"
                                },
                                {
                                    "ProductID": "22",
                                    "ProductName": "Gustaf's Knäckebröd",
                                    "SupplierID": "9",
                                    "CategoryID": "5",
                                    "QuantityPerUnit": "24 - 500 g pkgs.",
                                    "UnitPrice": "21.00",
                                    "UnitsInStock": "104",
                                    "UnitsOnOrder": "0",
                                    "ReorderLevel": "25",
                                    "Discontinued": "0"
                                },
                                {
                                    "ProductID": "24",
                                    "ProductName": "Guaraná Fantástica",
                                    "SupplierID": "10",
                                    "CategoryID": "1",
                                    "QuantityPerUnit": "12 - 355 ml cans",
                                    "UnitPrice": "4.50",
                                    "UnitsInStock": "20",
                                    "UnitsOnOrder": "0",
                                    "ReorderLevel": "0",
                                    "Discontinued": "1"
                                },
                                {
                                    "ProductID": "25",
                                    "ProductName": "NuNuCa Nuß-Nougat-Creme",
                                    "SupplierID": "11",
                                    "CategoryID": "3",
                                    "QuantityPerUnit": "20 - 450 g glasses",
                                    "UnitPrice": "14.00",
                                    "UnitsInStock": "76",
                                    "UnitsOnOrder": "0",
                                    "ReorderLevel": "30",
                                    "Discontinued": "0"
                                },
                                {
                                    "ProductID": "26",
                                    "ProductName": "Gumbär Gummibärchen",
                                    "SupplierID": "11",
                                    "CategoryID": "3",
                                    "QuantityPerUnit": "100 - 250 g bags",
                                    "UnitPrice": "31.23",
                                    "UnitsInStock": "15",
                                    "UnitsOnOrder": "0",
                                    "ReorderLevel": "0",
                                    "Discontinued": "0"
                                },
                                {
                                    "ProductID": "27",
                                    "ProductName": "Schoggi Schokolade",
                                    "SupplierID": "11",
                                    "CategoryID": "3",
                                    "QuantityPerUnit": "100 - 100 g pieces",
                                    "UnitPrice": "43.90",
                                    "UnitsInStock": "49",
                                    "UnitsOnOrder": "0",
                                    "ReorderLevel": "30",
                                    "Discontinued": "0"
                                },
                                {
                                    "ProductID": "32",
                                    "ProductName": "Mascarpone Fabioli",
                                    "SupplierID": "14",
                                    "CategoryID": "4",
                                    "QuantityPerUnit": "24 - 200 g pkgs.",
                                    "UnitPrice": "32.00",
                                    "UnitsInStock": "9",
                                    "UnitsOnOrder": "40",
                                    "ReorderLevel": "25",
                                    "Discontinued": "0"
                                },
                                {
                                    "ProductID": "34",
                                    "ProductName": "Sasquatch Ale",
                                    "SupplierID": "16",
                                    "CategoryID": "1",
                                    "QuantityPerUnit": "24 - 12 oz bottles",
                                    "UnitPrice": "14.00",
                                    "UnitsInStock": "111",
                                    "UnitsOnOrder": "0",
                                    "ReorderLevel": "15",
                                    "Discontinued": "0"
                                },
                                {
                                    "ProductID": "38",
                                    "ProductName": "Côte de Blaye",
                                    "SupplierID": "18",
                                    "CategoryID": "1",
                                    "QuantityPerUnit": "12 - 75 cl bottles",
                                    "UnitPrice": "263.50",
                                    "UnitsInStock": "17",
                                    "UnitsOnOrder": "0",
                                    "ReorderLevel": "15",
                                    "Discontinued": "0"
                                },
                                {
                                    "ProductID": "39",
                                    "ProductName": "Chartreuse verte",
                                    "SupplierID": "18",
                                    "CategoryID": "1",
                                    "QuantityPerUnit": "750 cc per bottle",
                                    "UnitPrice": "18.00",
                                    "UnitsInStock": "69",
                                    "UnitsOnOrder": "0",
                                    "ReorderLevel": "5",
                                    "Discontinued": "0"
                                },
                                {
                                    "ProductID": "40",
                                    "ProductName": "Boston Crab Meat",
                                    "SupplierID": "19",
                                    "CategoryID": "8",
                                    "QuantityPerUnit": "24 - 4 oz tins",
                                    "UnitPrice": "18.40",
                                    "UnitsInStock": "123",
                                    "UnitsOnOrder": "0",
                                    "ReorderLevel": "30",
                                    "Discontinued": "0"
                                },
                                {
                                    "ProductID": "41",
                                    "ProductName": "Jack's New England Clam Chowder",
                                    "SupplierID": "19",
                                    "CategoryID": "8",
                                    "QuantityPerUnit": "12 - 12 oz cans",
                                    "UnitPrice": "9.65",
                                    "UnitsInStock": "85",
                                    "UnitsOnOrder": "0",
                                    "ReorderLevel": "10",
                                    "Discontinued": "0"
                                },
                                {
                                    "ProductID": "43",
                                    "ProductName": "Ipoh Coffee",
                                    "SupplierID": "20",
                                    "CategoryID": "1",
                                    "QuantityPerUnit": "16 - 500 g tins",
                                    "UnitPrice": "46.00",
                                    "UnitsInStock": "17",
                                    "UnitsOnOrder": "10",
                                    "ReorderLevel": "25",
                                    "Discontinued": "0"
                                },
                                {
                                    "ProductID": "44",
                                    "ProductName": "Gula Malacca",
                                    "SupplierID": "20",
                                    "CategoryID": "2",
                                    "QuantityPerUnit": "20 - 2 kg bags",
                                    "UnitPrice": "19.45",
                                    "UnitsInStock": "27",
                                    "UnitsOnOrder": "0",
                                    "ReorderLevel": "15",
                                    "Discontinued": "0"
                                },
                                {
                                    "ProductID": "48",
                                    "ProductName": "Chocolade",
                                    "SupplierID": "22",
                                    "CategoryID": "3",
                                    "QuantityPerUnit": "10 pkgs.",
                                    "UnitPrice": "12.75",
                                    "UnitsInStock": "15",
                                    "UnitsOnOrder": "70",
                                    "ReorderLevel": "25",
                                    "Discontinued": "0"
                                },
                                {
                                    "ProductID": "55",
                                    "ProductName": "Pâté chinois",
                                    "SupplierID": "25",
                                    "CategoryID": "6",
                                    "QuantityPerUnit": "24 boxes x 2 pies",
                                    "UnitPrice": "24.00",
                                    "UnitsInStock": "115",
                                    "UnitsOnOrder": "0",
                                    "ReorderLevel": "20",
                                    "Discontinued": "0"
                                },
                                {
                                    "ProductID": "56",
                                    "ProductName": "Gnocchi di nonna Alice",
                                    "SupplierID": "26",
                                    "CategoryID": "5",
                                    "QuantityPerUnit": "24 - 250 g pkgs.",
                                    "UnitPrice": "38.00",
                                    "UnitsInStock": "21",
                                    "UnitsOnOrder": "10",
                                    "ReorderLevel": "30",
                                    "Discontinued": "0"
                                },
                                {
                                    "ProductID": "58",
                                    "ProductName": "Escargots de Bourgogne",
                                    "SupplierID": "27",
                                    "CategoryID": "8",
                                    "QuantityPerUnit": "24 pieces",
                                    "UnitPrice": "13.25",
                                    "UnitsInStock": "62",
                                    "UnitsOnOrder": "0",
                                    "ReorderLevel": "20",
                                    "Discontinued": "0"
                                },
                                {
                                    "ProductID": "59",
                                    "ProductName": "Raclette Courdavault",
                                    "SupplierID": "28",
                                    "CategoryID": "4",
                                    "QuantityPerUnit": "5 kg pkg.",
                                    "UnitPrice": "55.00",
                                    "UnitsInStock": "79",
                                    "UnitsOnOrder": "0",
                                    "ReorderLevel": "0",
                                    "Discontinued": "0"
                                },
                                {
                                    "ProductID": "60",
                                    "ProductName": "Camembert Pierrot",
                                    "SupplierID": "28",
                                    "CategoryID": "4",
                                    "QuantityPerUnit": "15 - 300 g rounds",
                                    "UnitPrice": "34.00",
                                    "UnitsInStock": "19",
                                    "UnitsOnOrder": "0",
                                    "ReorderLevel": "0",
                                    "Discontinued": "0"
                                },
                                {
                                    "ProductID": "62",
                                    "ProductName": "Tarte au sucre",
                                    "SupplierID": "29",
                                    "CategoryID": "3",
                                    "QuantityPerUnit": "48 pies",
                                    "UnitPrice": "49.30",
                                    "UnitsInStock": "17",
                                    "UnitsOnOrder": "0",
                                    "ReorderLevel": "0",
                                    "Discontinued": "0"
                                },
                                {
                                    "ProductID": "65",
                                    "ProductName": "Louisiana Fiery Hot Pepper Sauce",
                                    "SupplierID": "2",
                                    "CategoryID": "2",
                                    "QuantityPerUnit": "32 - 8 oz bottles",
                                    "UnitPrice": "21.05",
                                    "UnitsInStock": "76",
                                    "UnitsOnOrder": "0",
                                    "ReorderLevel": "0",
                                    "Discontinued": "0"
                                },
                                {
                                    "ProductID": "66",
                                    "ProductName": "Louisiana Hot Spiced Okra",
                                    "SupplierID": "2",
                                    "CategoryID": "2",
                                    "QuantityPerUnit": "24 - 8 oz jars",
                                    "UnitPrice": "17.00",
                                    "UnitsInStock": "4",
                                    "UnitsOnOrder": "100",
                                    "ReorderLevel": "20",
                                    "Discontinued": "0"
                                },
                                {
                                    "ProductID": "67",
                                    "ProductName": "Laughing Lumberjack Lager",
                                    "SupplierID": "16",
                                    "CategoryID": "1",
                                    "QuantityPerUnit": "24 - 12 oz bottles",
                                    "UnitPrice": "14.00",
                                    "UnitsInStock": "52",
                                    "UnitsOnOrder": "0",
                                    "ReorderLevel": "10",
                                    "Discontinued": "0"
                                },
                                {
                                    "ProductID": "68",
                                    "ProductName": "Scottish Longbreads",
                                    "SupplierID": "8",
                                    "CategoryID": "3",
                                    "QuantityPerUnit": "10 boxes x 8 pieces",
                                    "UnitPrice": "12.50",
                                    "UnitsInStock": "6",
                                    "UnitsOnOrder": "10",
                                    "ReorderLevel": "15",
                                    "Discontinued": "0"
                                },
                                {
                                    "ProductID": "70",
                                    "ProductName": "Outback Lager",
                                    "SupplierID": "7",
                                    "CategoryID": "1",
                                    "QuantityPerUnit": "24 - 355 ml bottles",
                                    "UnitPrice": "15.00",
                                    "UnitsInStock": "15",
                                    "UnitsOnOrder": "10",
                                    "ReorderLevel": "30",
                                    "Discontinued": "0"
                                }
                            ]
                        },
                        "text/html": "<table><tr><th>ProductID</th><th>ProductName</th><th>SupplierID</th><th>CategoryID</th><th>QuantityPerUnit</th><th>UnitPrice</th><th>UnitsInStock</th><th>UnitsOnOrder</th><th>ReorderLevel</th><th>Discontinued</th></tr><tr><td>1</td><td>Chai</td><td>1</td><td>1</td><td>10 boxes x 20 bags</td><td>18.00</td><td>39</td><td>0</td><td>10</td><td>0</td></tr><tr><td>2</td><td>Chang</td><td>1</td><td>1</td><td>24 - 12 oz bottles</td><td>19.00</td><td>17</td><td>40</td><td>25</td><td>0</td></tr><tr><td>4</td><td>Chef Anton&#39;s Cajun Seasoning</td><td>2</td><td>2</td><td>48 - 6 oz jars</td><td>22.00</td><td>53</td><td>0</td><td>0</td><td>0</td></tr><tr><td>5</td><td>Chef Anton&#39;s Gumbo Mix</td><td>2</td><td>2</td><td>36 boxes</td><td>21.35</td><td>0</td><td>0</td><td>0</td><td>1</td></tr><tr><td>7</td><td>Uncle Bob&#39;s Organic Dried Pears</td><td>3</td><td>7</td><td>12 - 1 lb pkgs.</td><td>30.00</td><td>15</td><td>0</td><td>10</td><td>0</td></tr><tr><td>8</td><td>Northwoods Cranberry Sauce</td><td>3</td><td>2</td><td>12 - 12 oz jars</td><td>40.00</td><td>6</td><td>0</td><td>0</td><td>0</td></tr><tr><td>11</td><td>Queso Cabrales</td><td>5</td><td>4</td><td>1 kg pkg.</td><td>21.00</td><td>22</td><td>30</td><td>30</td><td>0</td></tr><tr><td>12</td><td>Queso Manchego La Pastora</td><td>5</td><td>4</td><td>10 - 500 g pkgs.</td><td>38.00</td><td>86</td><td>0</td><td>0</td><td>0</td></tr><tr><td>17</td><td>Alice Mutton</td><td>7</td><td>6</td><td>20 - 1 kg tins</td><td>39.00</td><td>0</td><td>0</td><td>0</td><td>1</td></tr><tr><td>18</td><td>Carnarvon Tigers</td><td>7</td><td>8</td><td>16 kg pkg.</td><td>62.50</td><td>42</td><td>0</td><td>0</td><td>0</td></tr><tr><td>19</td><td>Teatime Chocolate Biscuits</td><td>8</td><td>3</td><td>10 boxes x 12 pieces</td><td>9.20</td><td>25</td><td>0</td><td>5</td><td>0</td></tr><tr><td>21</td><td>Sir Rodney&#39;s Scones</td><td>8</td><td>3</td><td>24 pkgs. x 4 pieces</td><td>10.00</td><td>3</td><td>40</td><td>5</td><td>0</td></tr><tr><td>22</td><td>Gustaf&#39;s Knäckebröd</td><td>9</td><td>5</td><td>24 - 500 g pkgs.</td><td>21.00</td><td>104</td><td>0</td><td>25</td><td>0</td></tr><tr><td>24</td><td>Guaraná Fantástica</td><td>10</td><td>1</td><td>12 - 355 ml cans</td><td>4.50</td><td>20</td><td>0</td><td>0</td><td>1</td></tr><tr><td>25</td><td>NuNuCa Nuß-Nougat-Creme</td><td>11</td><td>3</td><td>20 - 450 g glasses</td><td>14.00</td><td>76</td><td>0</td><td>30</td><td>0</td></tr><tr><td>26</td><td>Gumbär Gummibärchen</td><td>11</td><td>3</td><td>100 - 250 g bags</td><td>31.23</td><td>15</td><td>0</td><td>0</td><td>0</td></tr><tr><td>27</td><td>Schoggi Schokolade</td><td>11</td><td>3</td><td>100 - 100 g pieces</td><td>43.90</td><td>49</td><td>0</td><td>30</td><td>0</td></tr><tr><td>32</td><td>Mascarpone Fabioli</td><td>14</td><td>4</td><td>24 - 200 g pkgs.</td><td>32.00</td><td>9</td><td>40</td><td>25</td><td>0</td></tr><tr><td>34</td><td>Sasquatch Ale</td><td>16</td><td>1</td><td>24 - 12 oz bottles</td><td>14.00</td><td>111</td><td>0</td><td>15</td><td>0</td></tr><tr><td>38</td><td>Côte de Blaye</td><td>18</td><td>1</td><td>12 - 75 cl bottles</td><td>263.50</td><td>17</td><td>0</td><td>15</td><td>0</td></tr><tr><td>39</td><td>Chartreuse verte</td><td>18</td><td>1</td><td>750 cc per bottle</td><td>18.00</td><td>69</td><td>0</td><td>5</td><td>0</td></tr><tr><td>40</td><td>Boston Crab Meat</td><td>19</td><td>8</td><td>24 - 4 oz tins</td><td>18.40</td><td>123</td><td>0</td><td>30</td><td>0</td></tr><tr><td>41</td><td>Jack&#39;s New England Clam Chowder</td><td>19</td><td>8</td><td>12 - 12 oz cans</td><td>9.65</td><td>85</td><td>0</td><td>10</td><td>0</td></tr><tr><td>43</td><td>Ipoh Coffee</td><td>20</td><td>1</td><td>16 - 500 g tins</td><td>46.00</td><td>17</td><td>10</td><td>25</td><td>0</td></tr><tr><td>44</td><td>Gula Malacca</td><td>20</td><td>2</td><td>20 - 2 kg bags</td><td>19.45</td><td>27</td><td>0</td><td>15</td><td>0</td></tr><tr><td>48</td><td>Chocolade</td><td>22</td><td>3</td><td>10 pkgs.</td><td>12.75</td><td>15</td><td>70</td><td>25</td><td>0</td></tr><tr><td>55</td><td>Pâté chinois</td><td>25</td><td>6</td><td>24 boxes x 2 pies</td><td>24.00</td><td>115</td><td>0</td><td>20</td><td>0</td></tr><tr><td>56</td><td>Gnocchi di nonna Alice</td><td>26</td><td>5</td><td>24 - 250 g pkgs.</td><td>38.00</td><td>21</td><td>10</td><td>30</td><td>0</td></tr><tr><td>58</td><td>Escargots de Bourgogne</td><td>27</td><td>8</td><td>24 pieces</td><td>13.25</td><td>62</td><td>0</td><td>20</td><td>0</td></tr><tr><td>59</td><td>Raclette Courdavault</td><td>28</td><td>4</td><td>5 kg pkg.</td><td>55.00</td><td>79</td><td>0</td><td>0</td><td>0</td></tr><tr><td>60</td><td>Camembert Pierrot</td><td>28</td><td>4</td><td>15 - 300 g rounds</td><td>34.00</td><td>19</td><td>0</td><td>0</td><td>0</td></tr><tr><td>62</td><td>Tarte au sucre</td><td>29</td><td>3</td><td>48 pies</td><td>49.30</td><td>17</td><td>0</td><td>0</td><td>0</td></tr><tr><td>65</td><td>Louisiana Fiery Hot Pepper Sauce</td><td>2</td><td>2</td><td>32 - 8 oz bottles</td><td>21.05</td><td>76</td><td>0</td><td>0</td><td>0</td></tr><tr><td>66</td><td>Louisiana Hot Spiced Okra</td><td>2</td><td>2</td><td>24 - 8 oz jars</td><td>17.00</td><td>4</td><td>100</td><td>20</td><td>0</td></tr><tr><td>67</td><td>Laughing Lumberjack Lager</td><td>16</td><td>1</td><td>24 - 12 oz bottles</td><td>14.00</td><td>52</td><td>0</td><td>10</td><td>0</td></tr><tr><td>68</td><td>Scottish Longbreads</td><td>8</td><td>3</td><td>10 boxes x 8 pieces</td><td>12.50</td><td>6</td><td>10</td><td>15</td><td>0</td></tr><tr><td>70</td><td>Outback Lager</td><td>7</td><td>1</td><td>24 - 355 ml bottles</td><td>15.00</td><td>15</td><td>10</td><td>30</td><td>0</td></tr></table>"
                    },
                    "metadata": {}
                }
            ],
            "execution_count": 11
        },
        {
            "cell_type": "code",
            "source": [
                "SELECT\r\n",
                "    [EmployeeID],\r\n",
                "    [Region]\r\n",
                "FROM\r\n",
                "    [Employees]\r\n",
                "WHERE\r\n",
                "    [Region] IS NULL"
            ],
            "metadata": {
                "language": "sql",
                "azdata_cell_guid": "7ee0ab20-df52-4b96-8d5f-ee96e96d1e41"
            },
            "outputs": [
                {
                    "output_type": "display_data",
                    "data": {
                        "text/html": "(4 rows affected)"
                    },
                    "metadata": {}
                },
                {
                    "output_type": "display_data",
                    "data": {
                        "text/html": "Total execution time: 00:00:00.012"
                    },
                    "metadata": {}
                },
                {
                    "output_type": "execute_result",
                    "execution_count": 13,
                    "data": {
                        "application/vnd.dataresource+json": {
                            "schema": {
                                "fields": [
                                    {
                                        "name": "EmployeeID"
                                    },
                                    {
                                        "name": "Region"
                                    }
                                ]
                            },
                            "data": [
                                {
                                    "EmployeeID": "5",
                                    "Region": "NULL"
                                },
                                {
                                    "EmployeeID": "6",
                                    "Region": "NULL"
                                },
                                {
                                    "EmployeeID": "7",
                                    "Region": "NULL"
                                },
                                {
                                    "EmployeeID": "9",
                                    "Region": "NULL"
                                }
                            ]
                        },
                        "text/html": "<table><tr><th>EmployeeID</th><th>Region</th></tr><tr><td>5</td><td>NULL</td></tr><tr><td>6</td><td>NULL</td></tr><tr><td>7</td><td>NULL</td></tr><tr><td>9</td><td>NULL</td></tr></table>"
                    },
                    "metadata": {}
                }
            ],
            "execution_count": 13
        },
        {
            "cell_type": "code",
            "source": [
                "SELECT\r\n",
                "    [EmployeeID],\r\n",
                "    [Region]\r\n",
                "FROM\r\n",
                "    [Employees]\r\n",
                "WHERE\r\n",
                "    [Region] IS NOT NULL"
            ],
            "metadata": {
                "language": "sql",
                "azdata_cell_guid": "a6e92d20-fe02-46c8-9954-2928c622736b",
                "tags": []
            },
            "outputs": [
                {
                    "output_type": "display_data",
                    "data": {
                        "text/html": "(5 rows affected)"
                    },
                    "metadata": {}
                },
                {
                    "output_type": "display_data",
                    "data": {
                        "text/html": "Total execution time: 00:00:00.044"
                    },
                    "metadata": {}
                },
                {
                    "output_type": "execute_result",
                    "execution_count": 14,
                    "data": {
                        "application/vnd.dataresource+json": {
                            "schema": {
                                "fields": [
                                    {
                                        "name": "EmployeeID"
                                    },
                                    {
                                        "name": "Region"
                                    }
                                ]
                            },
                            "data": [
                                {
                                    "EmployeeID": "1",
                                    "Region": "WA"
                                },
                                {
                                    "EmployeeID": "2",
                                    "Region": "WA"
                                },
                                {
                                    "EmployeeID": "3",
                                    "Region": "WA"
                                },
                                {
                                    "EmployeeID": "4",
                                    "Region": "WA"
                                },
                                {
                                    "EmployeeID": "8",
                                    "Region": "WA"
                                }
                            ]
                        },
                        "text/html": "<table><tr><th>EmployeeID</th><th>Region</th></tr><tr><td>1</td><td>WA</td></tr><tr><td>2</td><td>WA</td></tr><tr><td>3</td><td>WA</td></tr><tr><td>4</td><td>WA</td></tr><tr><td>8</td><td>WA</td></tr></table>"
                    },
                    "metadata": {}
                }
            ],
            "execution_count": 14
        }
    ]
}