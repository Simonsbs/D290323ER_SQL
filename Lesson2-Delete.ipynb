{
    "metadata": {
        "kernelspec": {
            "name": "SQL",
            "display_name": "SQL",
            "language": "sql"
        },
        "language_info": {
            "name": "sql",
            "version": ""
        }
    },
    "nbformat_minor": 2,
    "nbformat": 4,
    "cells": [
        {
            "cell_type": "code",
            "source": [
                "USE [NorthWind]"
            ],
            "metadata": {
                "language": "sql",
                "azdata_cell_guid": "09d95474-9e05-4d3c-b136-e20c2f9ef2d7"
            },
            "outputs": [
                {
                    "output_type": "display_data",
                    "data": {
                        "text/html": "Commands completed successfully."
                    },
                    "metadata": {}
                },
                {
                    "output_type": "display_data",
                    "data": {
                        "text/html": "Total execution time: 00:00:00"
                    },
                    "metadata": {}
                }
            ],
            "execution_count": 1
        },
        {
            "cell_type": "code",
            "source": [
                "DELETE FROM\r\n",
                "[Temp]"
            ],
            "metadata": {
                "azdata_cell_guid": "ea5e69f5-8029-412f-b640-e979b791881b",
                "language": "sql"
            },
            "outputs": [
                {
                    "output_type": "display_data",
                    "data": {
                        "text/html": "(5 rows affected)"
                    },
                    "metadata": {}
                },
                {
                    "output_type": "display_data",
                    "data": {
                        "text/html": "Total execution time: 00:00:00.021"
                    },
                    "metadata": {}
                }
            ],
            "execution_count": 2
        },
        {
            "cell_type": "code",
            "source": [
                "SELECT * FROM [Temp]"
            ],
            "metadata": {
                "azdata_cell_guid": "66422e52-3d95-432f-ab25-e258ae636f27",
                "language": "sql"
            },
            "outputs": [
                {
                    "output_type": "display_data",
                    "data": {
                        "text/html": "(0 rows affected)"
                    },
                    "metadata": {}
                },
                {
                    "output_type": "display_data",
                    "data": {
                        "text/html": "Total execution time: 00:00:00.025"
                    },
                    "metadata": {}
                },
                {
                    "output_type": "execute_result",
                    "metadata": {},
                    "execution_count": 3,
                    "data": {
                        "application/vnd.dataresource+json": {
                            "schema": {
                                "fields": [
                                    {
                                        "name": "Name"
                                    },
                                    {
                                        "name": "Desc"
                                    }
                                ]
                            },
                            "data": []
                        },
                        "text/html": [
                            "<table>",
                            "<tr><th>Name</th><th>Desc</th></tr>",
                            "</table>"
                        ]
                    }
                }
            ],
            "execution_count": 3
        },
        {
            "cell_type": "code",
            "source": [
                "DELETE FROM\r\n",
                "    [TempUpdate]\r\n",
                "WHERE\r\n",
                "    [ID] = 2"
            ],
            "metadata": {
                "azdata_cell_guid": "97ca6fcd-af18-4dd4-93c8-aea09f3fb92a",
                "language": "sql",
                "tags": []
            },
            "outputs": [
                {
                    "output_type": "display_data",
                    "data": {
                        "text/html": "(0 rows affected)"
                    },
                    "metadata": {}
                },
                {
                    "output_type": "display_data",
                    "data": {
                        "text/html": "Total execution time: 00:00:00.005"
                    },
                    "metadata": {}
                }
            ],
            "execution_count": 4
        },
        {
            "cell_type": "code",
            "source": [
                "SELECT * FROM [TempUpdate]"
            ],
            "metadata": {
                "azdata_cell_guid": "a9652fc3-01ac-4b8c-af25-8a21f8046818",
                "language": "sql"
            },
            "outputs": [
                {
                    "output_type": "display_data",
                    "data": {
                        "text/html": "(5 rows affected)"
                    },
                    "metadata": {}
                },
                {
                    "output_type": "display_data",
                    "data": {
                        "text/html": "Total execution time: 00:00:00.017"
                    },
                    "metadata": {}
                },
                {
                    "output_type": "execute_result",
                    "metadata": {},
                    "execution_count": 5,
                    "data": {
                        "application/vnd.dataresource+json": {
                            "schema": {
                                "fields": [
                                    {
                                        "name": "ID"
                                    },
                                    {
                                        "name": "NewName"
                                    }
                                ]
                            },
                            "data": [
                                {
                                    "ID": "3",
                                    "NewName": "NNN 3"
                                },
                                {
                                    "ID": "7",
                                    "NewName": "NNN 7"
                                },
                                {
                                    "ID": "9",
                                    "NewName": "NNN 9"
                                },
                                {
                                    "ID": "10",
                                    "NewName": "NNN 10"
                                },
                                {
                                    "ID": "999",
                                    "NewName": "NNN 999"
                                }
                            ]
                        },
                        "text/html": [
                            "<table>",
                            "<tr><th>ID</th><th>NewName</th></tr>",
                            "<tr><td>3</td><td>NNN 3</td></tr>",
                            "<tr><td>7</td><td>NNN 7</td></tr>",
                            "<tr><td>9</td><td>NNN 9</td></tr>",
                            "<tr><td>10</td><td>NNN 10</td></tr>",
                            "<tr><td>999</td><td>NNN 999</td></tr>",
                            "</table>"
                        ]
                    }
                }
            ],
            "execution_count": 5
        },
        {
            "cell_type": "code",
            "source": [
                "DELETE FROM\r\n",
                "    [TempUpdate]\r\n",
                "WHERE\r\n",
                "    [ID] = 3"
            ],
            "metadata": {
                "azdata_cell_guid": "32645126-731f-4804-9575-4f2f10a3f3b4",
                "language": "sql",
                "tags": []
            },
            "outputs": [
                {
                    "output_type": "display_data",
                    "data": {
                        "text/html": "(1 row affected)"
                    },
                    "metadata": {}
                },
                {
                    "output_type": "display_data",
                    "data": {
                        "text/html": "Total execution time: 00:00:00.007"
                    },
                    "metadata": {}
                }
            ],
            "execution_count": 6
        },
        {
            "cell_type": "code",
            "source": [
                "SELECT * FROM [TempUpdate]"
            ],
            "metadata": {
                "azdata_cell_guid": "56e244ec-9ea0-4800-9239-36f1ee2a3025",
                "language": "sql"
            },
            "outputs": [
                {
                    "output_type": "display_data",
                    "data": {
                        "text/html": "(4 rows affected)"
                    },
                    "metadata": {}
                },
                {
                    "output_type": "display_data",
                    "data": {
                        "text/html": "Total execution time: 00:00:00.022"
                    },
                    "metadata": {}
                },
                {
                    "output_type": "execute_result",
                    "metadata": {},
                    "execution_count": 7,
                    "data": {
                        "application/vnd.dataresource+json": {
                            "schema": {
                                "fields": [
                                    {
                                        "name": "ID"
                                    },
                                    {
                                        "name": "NewName"
                                    }
                                ]
                            },
                            "data": [
                                {
                                    "ID": "7",
                                    "NewName": "NNN 7"
                                },
                                {
                                    "ID": "9",
                                    "NewName": "NNN 9"
                                },
                                {
                                    "ID": "10",
                                    "NewName": "NNN 10"
                                },
                                {
                                    "ID": "999",
                                    "NewName": "NNN 999"
                                }
                            ]
                        },
                        "text/html": [
                            "<table>",
                            "<tr><th>ID</th><th>NewName</th></tr>",
                            "<tr><td>7</td><td>NNN 7</td></tr>",
                            "<tr><td>9</td><td>NNN 9</td></tr>",
                            "<tr><td>10</td><td>NNN 10</td></tr>",
                            "<tr><td>999</td><td>NNN 999</td></tr>",
                            "</table>"
                        ]
                    }
                }
            ],
            "execution_count": 7
        },
        {
            "cell_type": "code",
            "source": [
                "TRUNCATE TABLE [TempUpdate]"
            ],
            "metadata": {
                "azdata_cell_guid": "61a0f499-efae-45fd-ad9c-e42cc80fede6",
                "language": "sql"
            },
            "outputs": [
                {
                    "output_type": "display_data",
                    "data": {
                        "text/html": "Commands completed successfully."
                    },
                    "metadata": {}
                },
                {
                    "output_type": "display_data",
                    "data": {
                        "text/html": "Total execution time: 00:00:00.021"
                    },
                    "metadata": {}
                }
            ],
            "execution_count": 9
        },
        {
            "cell_type": "markdown",
            "source": [
                "1. delete a single record from a table\n",
                "2. delete 2 rows from atable using a single command\n",
                "3. truncate a table"
            ],
            "metadata": {
                "azdata_cell_guid": "e495b4f3-e3f3-468a-9f64-8ce1bab74c7b",
                "language": ""
            },
            "attachments": {}
        }
    ]
}